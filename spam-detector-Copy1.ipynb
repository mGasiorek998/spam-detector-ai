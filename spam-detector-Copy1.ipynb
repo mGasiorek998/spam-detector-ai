{
 "cells": [
  {
   "cell_type": "markdown",
   "id": "57b9f7ed",
   "metadata": {},
   "source": [
    "# Uczenie maszynowe w Python - Zaliczenie\n",
    "## E-mail spam classifier"
   ]
  },
  {
   "cell_type": "markdown",
   "id": "cfdf91c9",
   "metadata": {},
   "source": [
    "## Important \n",
    "<ul>\n",
    "    <li>Dodać klasy: moje propozycje to:</li>\n",
    "    <ul>\n",
    "        <li>Data Analizer - dostaje dane posiada funckje analize() i zwrca wszelkie informacje o danych (shape, ham amout, spam amount, words per email, words in total)</li>\n",
    "        <li>DataCleaner - dostaje columne texts i posiada funkcje clean(), zwraca text_clean</li>\n",
    "        <li>ModelTester</li>\n",
    "    </ul>\n",
    "</ul>"
   ]
  },
  {
   "cell_type": "code",
   "execution_count": 65,
   "id": "328badd6",
   "metadata": {
    "scrolled": true
   },
   "outputs": [
    {
     "name": "stderr",
     "output_type": "stream",
     "text": [
      "[nltk_data] Downloading package wordnet to\n",
      "[nltk_data]     C:\\Users\\piotr\\AppData\\Roaming\\nltk_data...\n",
      "[nltk_data]   Package wordnet is already up-to-date!\n",
      "[nltk_data] Downloading package stopwords to\n",
      "[nltk_data]     C:\\Users\\piotr\\AppData\\Roaming\\nltk_data...\n",
      "[nltk_data]   Package stopwords is already up-to-date!\n"
     ]
    }
   ],
   "source": [
    "# imports\n",
    "import numpy as np\n",
    "import pandas as pd\n",
    "import matplotlib.pyplot as plt\n",
    "from nltk.corpus import stopwords\n",
    "import nltk\n",
    "from nltk.tokenize import RegexpTokenizer\n",
    "from textblob import Word\n",
    "nltk.download('wordnet')\n",
    "nltk.download('stopwords')\n",
    "\n",
    "from sklearn.model_selection import train_test_split\n",
    "from sklearn.tree import DecisionTreeClassifier\n",
    "from sklearn.neighbors import KNeighborsClassifier\n",
    "from sklearn.linear_model import LogisticRegression\n",
    "from sklearn.ensemble import RandomForestClassifier\n",
    "from sklearn.feature_extraction.text import CountVectorizer\n",
    "import time"
   ]
  },
  {
   "cell_type": "markdown",
   "id": "deeddca4",
   "metadata": {},
   "source": [
    "## 1. Analysis of the dataset"
   ]
  },
  {
   "cell_type": "code",
   "execution_count": 59,
   "id": "e781aca5",
   "metadata": {},
   "outputs": [
    {
     "name": "stdout",
     "output_type": "stream",
     "text": [
      "********************************************************************************\n",
      "     id label                                               text  label_num\n",
      "0   605   ham  Subject: enron methanol ; meter # : 988291\\nth...          0\n",
      "1  2349   ham  Subject: hpl nom for january 9 , 2001\\n( see a...          0\n",
      "2  3624   ham  Subject: neon retreat\\nho ho ho , we ' re arou...          0\n",
      "3  4685  spam  Subject: photoshop , windows , office . cheap ...          1\n",
      "4  2030   ham  Subject: re : indian springs\\nthis deal is to ...          0\n",
      "********************************************************************************\n",
      "------------------------------------------------------------------------------------------------------------------------\n",
      "The dataset contains 5171 emails, 3672 of which are labeled as non-spam and 1499 as spam. Between the emails, theres a total of 1083244 words, with an average of ~209.48 words per email.\n",
      "------------------------------------------------------------------------------------------------------------------------\n"
     ]
    }
   ],
   "source": [
    "class DataPreparator:\n",
    "    \n",
    "    def __init__(self, file_name):\n",
    "        self.df = pd.read_csv(file_name)\n",
    "        self.email_amount = 0\n",
    "        self.ham_amount = 0\n",
    "        self.spam_amount = 0\n",
    "        self.word_count = 0\n",
    "        self.avg_words = 0       \n",
    "        \n",
    "    # print out the information about the dataset\n",
    "    def __str__(self):\n",
    "        mark_line = \"-\" * 120\n",
    "        data_info = f'The dataset contains {self.email_amount} emails, {self.ham_amount} ' \\\n",
    "                    f'of which are labeled as non-spam and {self.spam_amount} as spam. Between the emails, ' \\\n",
    "                    f'theres a total of {self.word_count} words,' \\\n",
    "                    f' with an average of ~{self.avg_words} words per email.'\n",
    "        \n",
    "        info = \"\\n\".join([mark_line, data_info, mark_line])\n",
    "        return info\n",
    "            \n",
    "    def analize(self):\n",
    "        \n",
    "        # label the unnamed column with ids\n",
    "        self.df.rename(columns={'Unnamed: 0': 'id'}, inplace = True)\n",
    "        print(80 * \"*\")\n",
    "        print(self.df.head())\n",
    "        print(80 * \"*\")\n",
    "\n",
    "        # amount of emails in the dataset\n",
    "        self.email_amount = self.df.shape[0]\n",
    "        \n",
    "        \n",
    "        # Series with the amount of words in each email and their total count\n",
    "        words_in_emails = (self.df['text'].apply(lambda x: len(str(x).split(\" \"))))\n",
    "        self.word_count = np.sum(words_in_emails)\n",
    "        \n",
    "        # average amount of words in each email\n",
    "        self.avg_words = round(np.divide(self.word_count, self.email_amount), 2)\n",
    "        \n",
    "        # amount of spam and ham emails \n",
    "        ham_and_spam_amount= self.df.groupby(['label']).count()\n",
    "        self.ham_amount = ham_and_spam_amount.iloc[0, 0]\n",
    "        self.spam_amount = ham_and_spam_amount.iloc[1, 0]\n",
    "\n",
    "\n",
    "\n",
    "first_step = DataPreparator(\"spam_ham_dataset.csv\")\n",
    "\n",
    "first_step.analize()\n",
    "\n",
    "\n",
    "print(first_step)\n"
   ]
  },
  {
   "cell_type": "code",
   "execution_count": 58,
   "id": "71a98242",
   "metadata": {},
   "outputs": [
    {
     "name": "stdout",
     "output_type": "stream",
     "text": [
      "********************************************************************************\n",
      "     id label                                               text  label_num  \\\n",
      "0   605   ham  Subject: enron methanol ; meter # : 988291\\nth...          0   \n",
      "1  2349   ham  Subject: hpl nom for january 9 , 2001\\n( see a...          0   \n",
      "2  3624   ham  Subject: neon retreat\\nho ho ho , we ' re arou...          0   \n",
      "3  4685  spam  Subject: photoshop , windows , office . cheap ...          1   \n",
      "4  2030   ham  Subject: re : indian springs\\nthis deal is to ...          0   \n",
      "\n",
      "                                          text_clean  \n",
      "0  subject enron methanol meter this is a follow ...  \n",
      "1  subject hpl nom for january see attached file ...  \n",
      "2  subject neon retreat ho ho ho we re around to ...  \n",
      "3  subject photoshop windows office cheap main tr...  \n",
      "4  subject re indian springs this deal is to book...  \n",
      "********************************************************************************\n",
      "     id label                                               text  label_num  \\\n",
      "0   605   ham  Subject: enron methanol ; meter # : 988291\\nth...          0   \n",
      "1  2349   ham  Subject: hpl nom for january 9 , 2001\\n( see a...          0   \n",
      "2  3624   ham  Subject: neon retreat\\nho ho ho , we ' re arou...          0   \n",
      "3  4685  spam  Subject: photoshop , windows , office . cheap ...          1   \n",
      "4  2030   ham  Subject: re : indian springs\\nthis deal is to ...          0   \n",
      "\n",
      "                                          text_clean  \n",
      "0  subject enron methanol meter follow note gave ...  \n",
      "1  subject hpl nom january see attached file hpln...  \n",
      "2  subject neon retreat ho ho ho around wonderful...  \n",
      "3  subject photoshop windows office cheap main tr...  \n",
      "4  subject indian springs deal book teco pvr reve...  \n",
      "********************************************************************************\n",
      "0    subject enron methanol meter follow note gave ...\n",
      "1    subject hpl nom january see attached file hpln...\n",
      "2    subject neon retreat ho ho ho around wonderful...\n",
      "3    subject photoshop window office cheap main tre...\n",
      "4    subject indian spring deal book teco pvr reven...\n",
      "5    subject ehronline web address change message i...\n",
      "6    subject spring saving certificate take save us...\n",
      "7    subject looking medication best source difficu...\n",
      "8    subject noms actual flow agree forwarded melis...\n",
      "9    subject nomination oct see attached file hplnl...\n",
      "Name: text_clean, dtype: object\n",
      "********************************************************************************\n",
      "0    methanol follow note gave monday preliminary f...\n",
      "1                       nom january file hplnol hplnol\n",
      "2    neon retreat ho ho ho around wonderful year ne...\n",
      "3    photoshop window office cheap main trending ab...\n",
      "4    indian spring book teco pvr revenue understand...\n",
      "Name: text_clean, dtype: object\n"
     ]
    }
   ],
   "source": [
    "class DataCleaner:\n",
    "    \n",
    "    def __init__(self, analyzed_data):\n",
    "        self.df = analyzed_data.df\n",
    "        \n",
    "    \n",
    "    def applying_clean_contents(self):\n",
    "        \n",
    "        # apply the function to each row of the dataframe\n",
    "        self.df['text_clean'] = self.df['text'].apply(lambda string: clean_contents(string))\n",
    "        print(80 * \"*\")\n",
    "        print(self.df.head())  # printing 5 rows after\n",
    "        \n",
    "   \n",
    "    def cleaning_stopwords(self):\n",
    "        stop = stopwords.words('english')\n",
    "        self.df['text_clean'] = self.df['text_clean'].apply(lambda x: \" \".join(x for x in x.split() if x not in stop))\n",
    "        print(80 * \"*\")\n",
    "        print(self.df.head())\n",
    "    \n",
    "    # lemmatize the cleaned email contents\n",
    "    def lemmatization(self):\n",
    "        self.df['text_clean'] = self.df['text_clean'].apply(lambda x: \" \".join([Word(word).lemmatize() for word in x.split()]))\n",
    "\n",
    "        # show the first 10 rows after lemmatizing\n",
    "        print(80 * \"*\")\n",
    "        print(self.df['text_clean'].head(10))\n",
    "        \n",
    "    def clean_most_frequent_words(self):\n",
    "        \n",
    "        # define the most frequent words in the emails\n",
    "        frequent_words = pd.Series(' '.join(self.df['text_clean']).split()).value_counts()\n",
    "        frequent_words = frequent_words[frequent_words > 1000]\n",
    "        \n",
    "        # remove them from the email contents\n",
    "        frequent_words = list(frequent_words.index)\n",
    "        self.df['text_clean'] = self.df['text_clean'].apply(lambda x: \" \".join(x for x in x.split() if x not in frequent_words))\n",
    "        print(80 * \"*\")\n",
    "        print(self.df['text_clean'].head())\n",
    "        \n",
    "# clean the contents of each email\n",
    "def clean_contents(string, reg = RegexpTokenizer(r'[a-z]+')):\n",
    "    string = string.lower()\n",
    "    tokens = reg.tokenize(string)\n",
    "    return \" \".join(tokens)\n",
    "\n",
    "        \n",
    "second_step = DataCleaner(result)\n",
    "\n",
    "second_step.applying_clean_contents()\n",
    "second_step.cleaning_stopwords()\n",
    "second_step.lemmatization()\n",
    "second_step.clean_most_frequent_words()\n"
   ]
  },
  {
   "cell_type": "code",
   "execution_count": 62,
   "id": "0344de50",
   "metadata": {},
   "outputs": [
    {
     "data": {
      "image/png": "[encoded data removed]",
      "text/plain": [
       "<Figure size 432x288 with 1 Axes>"
      ]
     },
     "metadata": {
      "needs_background": "light"
     },
     "output_type": "display_data"
    }
   ],
   "source": [
    "class Plots:\n",
    "    \n",
    "    def __init__(self, cleaned_data):\n",
    "        self.df = cleaned_data.df\n",
    "        \n",
    "    def show_plot_second_step(self):\n",
    "        self.df['label'].value_counts().plot.bar(color = [\"g\",\"r\"])\n",
    "        plt.title('Total number of ham and spam in the dataset')\n",
    "        plt.show()\n",
    "        \n",
    "plot = Plots(second_step)\n",
    "plot.show_plot_second_step()\n",
    "        "
   ]
  },
  {
   "cell_type": "code",
   "execution_count": null,
   "id": "484d84c6",
   "metadata": {},
   "outputs": [],
   "source": [
    "class Vectorizer:\n",
    "    \n",
    "    def __init__(self, cleaned_data):\n",
    "        self.df = cleaned_data.df\n",
    "        \n",
    "    def vectorization:\n",
    "        "
   ]
  },
  {
   "cell_type": "code",
   "execution_count": 67,
   "id": "c53ab407",
   "metadata": {},
   "outputs": [
    {
     "name": "stdout",
     "output_type": "stream",
     "text": [
      "['aaihmqv', 'aalland', 'aamlrg', 'aare', 'aaron', 'aavilable', 'ab', 'ababa', 'aback', 'abacus', 'abandon', 'abandoned', 'abasement', 'abashed', 'abater', 'abb', 'abbasi', 'abbey', 'abbott', 'abbreviation']\n"
     ]
    }
   ],
   "source": [
    "# Convert a collection of text documents to a matrix of token counts\n",
    "cv = CountVectorizer()\n",
    "X = cv.fit_transform(second_step.df.text_clean)\n",
    " \n",
    "# Get the categories\n",
    "y = second_step.df.label\n",
    "# Words exctracted from text_clean\n",
    "print(cv.get_feature_names()[10:50:2])"
   ]
  },
  {
   "cell_type": "code",
   "execution_count": null,
   "id": "8d3e9aef",
   "metadata": {},
   "outputs": [],
   "source": []
  }
 ],
 "metadata": {
  "kernelspec": {
   "display_name": "Python 3",
   "language": "python",
   "name": "python3"
  },
  "language_info": {
   "codemirror_mode": {
    "name": "ipython",
    "version": 3
   },
   "file_extension": ".py",
   "mimetype": "text/x-python",
   "name": "python",
   "nbconvert_exporter": "python",
   "pygments_lexer": "ipython3",
   "version": "3.8.5"
  }
 },
 "nbformat": 4,
 "nbformat_minor": 5
}
