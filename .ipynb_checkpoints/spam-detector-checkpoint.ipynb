{
 "cells": [
  {
   "cell_type": "markdown",
   "id": "57b9f7ed",
   "metadata": {},
   "source": [
    "# Uczenie maszynowe w Python - Zaliczenie\n",
    ">Authors: \n",
    "><ul>\n",
    ">    <li>Michal Gasiorek</li>\n",
    ">    <li>Piotr Bosianek</li>\n",
    ">    <li>Tomasz Kurek</li>\n",
    "></ul>"
   ]
  },
  {
   "cell_type": "markdown",
   "id": "cfdf91c9",
   "metadata": {},
   "source": [
    "## Predicting spam e-mails\n",
    "This notebook looks into Python-based machine learning and data-science libraries to build a machine learning model for detecting spam e-mails\n",
    "\n",
    "## Content\n",
    "<ol>\n",
    "    <li>Problem Definition</li>\n",
    "    <li>Data</li>\n",
    "    <li>Features</li>\n",
    "    <li>Preparing the tools</li>\n",
    "    <li>Classes</li>\n",
    "        <ul>\n",
    "            <li>Data Preparator</li>\n",
    "            <li>Data Cleaner</li>\n",
    "            <li>Plots</li>\n",
    "            <li>Vector And Train</li>\n",
    "            <li>Model Evaluator</li>\n",
    "        </ul>\n",
    "    <li>Data analysis</li>\n",
    "    <li>Data Cleaning</li>\n",
    "    <li>Data Vectorizing</li>\n",
    "    <li>Traning models</li>\n",
    "    <li>Scoring models</li>\n",
    "    <li>Testing models</li>\n",
    "</ol>\n",
    "\n",
    "### 1. Problem Definition\n",
    "> Given e-mail message classify it as spam message or ham (not spam)\n",
    "\n",
    "### 2. Data\n",
    "Data was downloaded from: https://www.kaggle.com/venky73/spam-mails-dataset\n",
    "\n",
    "### 3. Features\n",
    "<ol>\n",
    "    <li>label - labels of e-mails which can be either Spam or Ham</li>\n",
    "    <li>text - e-mail subject and message</li>\n",
    "    <li>label_num: \n",
    "        <ul>\n",
    "            <li>0 - ham</li>\n",
    "            <li>1 - spam</li>\n",
    "        </ul>\n",
    "    </li>\n",
    "</ol>"
   ]
  },
  {
   "cell_type": "markdown",
   "id": "eb47223a",
   "metadata": {},
   "source": [
    "### 4. Preparing the tools\n",
    "We will use NumPy, Pandas, Matplotlib for data analysis and manipulation"
   ]
  },
  {
   "cell_type": "code",
   "execution_count": 256,
   "id": "328badd6",
   "metadata": {
    "scrolled": true
   },
   "outputs": [
    {
     "name": "stderr",
     "output_type": "stream",
     "text": [
      "[nltk_data] Downloading package wordnet to C:\\Users\\PC\n",
      "[nltk_data]     COMPUTER\\AppData\\Roaming\\nltk_data...\n",
      "[nltk_data]   Package wordnet is already up-to-date!\n",
      "[nltk_data] Downloading package stopwords to C:\\Users\\PC\n",
      "[nltk_data]     COMPUTER\\AppData\\Roaming\\nltk_data...\n",
      "[nltk_data]   Package stopwords is already up-to-date!\n"
     ]
    }
   ],
   "source": [
    "# All import we will need:\n",
    "import time\n",
    "import nltk\n",
    "nltk.download('wordnet')\n",
    "nltk.download('stopwords')\n",
    "\n",
    "import numpy as np\n",
    "import pandas as pd\n",
    "import matplotlib.pyplot as plt\n",
    "\n",
    "from nltk.corpus import stopwords\n",
    "from nltk.tokenize import RegexpTokenizer\n",
    "from textblob import Word\n",
    "\n",
    "from sklearn.model_selection import train_test_split\n",
    "from sklearn.tree import DecisionTreeClassifier\n",
    "from sklearn.neighbors import KNeighborsClassifier\n",
    "from sklearn.linear_model import LogisticRegression\n",
    "from sklearn.ensemble import RandomForestClassifier\n",
    "from sklearn.feature_extraction.text import CountVectorizer\n",
    "\n",
    "from IPython.display import Markdown, display"
   ]
  },
  {
   "cell_type": "markdown",
   "id": "deeddca4",
   "metadata": {},
   "source": [
    "## 5. Classes"
   ]
  },
  {
   "cell_type": "markdown",
   "id": "c4a1cb1e",
   "metadata": {},
   "source": [
    "**Data Preparator** \n",
    "> handles preparing and analyzing the data"
   ]
  },
  {
   "cell_type": "code",
   "execution_count": 312,
   "id": "e781aca5",
   "metadata": {},
   "outputs": [],
   "source": [
    "class DataPreparator:\n",
    "    \n",
    "    def __init__(self, file_name):\n",
    "        self.df = pd.read_csv(file_name)\n",
    "        self.email_amount = 0\n",
    "        self.ham_amount = 0\n",
    "        self.spam_amount = 0\n",
    "        self.word_count = 0\n",
    "        self.avg_words = 0       \n",
    "    \n",
    "    # print out the information about the dataset\n",
    "    def __str__(self):\n",
    "        data_info = f\"\"\" Dataset contains **{self.email_amount}** emails<br> \n",
    "                    Messages marked as HAM: **{self.ham_amount}**<br>\n",
    "                    Messages marked as SPAM: **{self.spam_amount}**<br>\n",
    "                    Total words count: **{self.word_count}** words<br>\n",
    "                    Average words per e-mail:  **~{self.avg_words}**\"\"\"\n",
    "                \n",
    "        display(Markdown(data_info))\n",
    "        return ''\n",
    "    \n",
    "    def get_dataframe_head(self, amount):\n",
    "        return self.df.head(amount)\n",
    "    \n",
    "    def analize(self):\n",
    "        # label the unnamed column with ids\n",
    "        self.df.rename(columns={'Unnamed: 0': 'id'}, inplace = True)\n",
    "\n",
    "        # amount of emails in the dataset\n",
    "        self.email_amount = self.df.shape[0]\n",
    "        \n",
    "        \n",
    "        # Series with the amount of words in each email and their total count\n",
    "        words_in_emails = (self.df['text'].apply(lambda x: len(str(x).split(\" \"))))\n",
    "        self.word_count = np.sum(words_in_emails)\n",
    "        \n",
    "        # average amount of words in each email\n",
    "        self.avg_words = round(np.divide(self.word_count, self.email_amount), 2)\n",
    "        \n",
    "        # amount of spam and ham emails \n",
    "        ham_and_spam_amount= self.df.groupby(['label']).count()\n",
    "        self.ham_amount = ham_and_spam_amount.iloc[0, 0]\n",
    "        self.spam_amount = ham_and_spam_amount.iloc[1, 0]"
   ]
  },
  {
   "cell_type": "markdown",
   "id": "5768fc6e",
   "metadata": {},
   "source": [
    "**Data Cleaner** \n",
    "> handles cleaning the data (removes stopwords and lemmatize e-mail messages)"
   ]
  },
  {
   "cell_type": "code",
   "execution_count": 349,
   "id": "71a98242",
   "metadata": {},
   "outputs": [],
   "source": [
    "class DataCleaner:\n",
    "    \n",
    "    def __init__(self, analyzed_data):\n",
    "        self.df = analyzed_data.df\n",
    "        \n",
    "    \n",
    "    def applying_clean_contents(self):\n",
    "        print(\"Cleaning contents...\")\n",
    "        # apply the function to each row of the dataframe\n",
    "        self.df['text_clean'] = self.df['text'].apply(lambda string: clean_contents(string))\n",
    "        print(\"Contents cleaned!\")\n",
    "        return self.df.head() # printing 5 rows after\n",
    "    \n",
    "       \n",
    "    def cleaning_stopwords(self):\n",
    "        print('Cleaning stop words...')\n",
    "        stop = stopwords.words('english')\n",
    "        self.df['text_clean'] = self.df['text_clean'].apply(lambda x: \" \".join(x for x in x.split() if x not in stop))\n",
    "        print('Stop words removed!')\n",
    "        return self.df.head()\n",
    "        \n",
    "    # lemmatize the cleaned email contents\n",
    "    def lemmatization(self):\n",
    "        print('Run lemmatization...')\n",
    "        self.df['text_clean'] = self.df['text_clean'].apply(lambda x: \" \".join([Word(word).lemmatize() for word in x.split()]))\n",
    "\n",
    "        print('Lemmatization complete!')\n",
    "        return self.df.head(10)\n",
    "        \n",
    "    def clean_most_frequent_words(self):\n",
    "        print(\"Removing most frequent words...\")\n",
    "        # define the most frequent words in the emails\n",
    "        frequent_words = pd.Series(' '.join(self.df['text_clean']).split()).value_counts()\n",
    "        frequent_words = frequent_words[frequent_words > 1000]\n",
    "        \n",
    "        # remove them from the email contents\n",
    "        frequent_words = list(frequent_words.index)\n",
    "        self.df['text_clean'] = self.df['text_clean'].apply(lambda x: \" \".join(x for x in x.split() if x not in frequent_words))\n",
    "        print(\"Most frequent words removed!\")\n",
    "        return self.df.head(10)\n",
    "        \n",
    "# clean the contents of each email\n",
    "def clean_contents(string, reg = RegexpTokenizer(r'[a-z]+')):\n",
    "    string = string.lower()\n",
    "    tokens = reg.tokenize(string)\n",
    "    return \" \".join(tokens)\n",
    "\n"
   ]
  },
  {
   "cell_type": "markdown",
   "id": "77367d96",
   "metadata": {},
   "source": [
    "**Plots** \n",
    "> handles plotting the data"
   ]
  },
  {
   "cell_type": "code",
   "execution_count": 259,
   "id": "0344de50",
   "metadata": {},
   "outputs": [],
   "source": [
    "class Plots:\n",
    "    \n",
    "    def __init__(self, cleaned_data):\n",
    "        self.df = cleaned_data.df\n",
    "        \n",
    "    def plot_ham_to_spam_ratio(self):\n",
    "        self.df['label'].value_counts().plot.bar(color = [\"g\",\"r\"])\n",
    "        plt.title('Total number of ham and spam in the dataset')\n",
    "        plt.show()\n",
    "    \n",
    "    def plot_accuracy(self, models):\n",
    "        # show models accuracy as bar chart:\n",
    "        model_names = models['Model']\n",
    "        model_acc = models['Accuracy']\n",
    "\n",
    "        plt.xticks(np.arange(len(model_names)), model_names)\n",
    "        plt.bar(np.arange(len(model_names)), model_acc*100, color=['r', 'g', 'b', 'y'])\n",
    "        plt.show()"
   ]
  },
  {
   "cell_type": "markdown",
   "id": "3e869335",
   "metadata": {},
   "source": [
    "**Vector and Train** \n",
    "> creates vectors and splits the dataset to train and test"
   ]
  },
  {
   "cell_type": "code",
   "execution_count": 362,
   "id": "d5a857ff",
   "metadata": {},
   "outputs": [],
   "source": [
    "class VectorAndTrain:\n",
    "    def __init__(self, cleaned_data):\n",
    "        self.df = cleaned_data.df\n",
    "        self.cv = CountVectorizer()\n",
    "    \n",
    "    def get_cv(self):\n",
    "        return self.cv\n",
    "    def vectorization(self):\n",
    "        # Convert a collection of text documents to a matrix of token counts\n",
    "        X = self.cv.fit_transform(self.df.text_clean)\n",
    "        # Get the categories\n",
    "        y = self.df.label\n",
    "        # Words exctracted from text_clean\n",
    "        print(self.cv.get_feature_names()[10:50:2])\n",
    "        return X, y\n",
    "    \n",
    "    def train(self, X ,y):\n",
    "        X_train, X_test, y_train, y_test = train_test_split(X, y, test_size=0.2, random_state=0)\n",
    "        return X_train, X_test, y_train, y_test\n",
    "\n",
    "        "
   ]
  },
  {
   "cell_type": "markdown",
   "id": "cff498c3",
   "metadata": {},
   "source": [
    "**Model Evaluator** \n",
    "> handles training and scoring given models"
   ]
  },
  {
   "cell_type": "code",
   "execution_count": 368,
   "id": "a0292fa1",
   "metadata": {
    "scrolled": true
   },
   "outputs": [],
   "source": [
    "class ModelEvaluator():\n",
    "    #constructor\n",
    "    def __init__(self, cv):\n",
    "        self.models = []\n",
    "        self.cv = cv\n",
    "        \n",
    "    def add(self, modelName, model):\n",
    "        self.models.append({'name': modelName, 'model': model, 'acc': 0, 'time_trained': 0 })\n",
    "    \n",
    "    # returns models as dataframe\n",
    "    def get_models(self):    \n",
    "        models_arr = []\n",
    "        \n",
    "        for item in self.models:\n",
    "            name, model, acc, time_trained = item.values()\n",
    "            models_arr.append([name, acc, time_trained])\n",
    "        \n",
    "        models_df = pd.DataFrame(models_arr) # create dataframe out of the models array\n",
    "        models_df.columns = ['Model', 'Accuracy', 'Time Trained'] # add columns \n",
    "        \n",
    "        # sort values by model's accuracy\n",
    "        models_df.sort_values(by='Accuracy', ascending = False, inplace=True) \n",
    "        \n",
    "        #reset index\n",
    "        models_df.reset_index(drop = True, inplace = True)\n",
    "        \n",
    "        return models_df\n",
    "        \n",
    "    # handels traing given models\n",
    "    def train(self, X_train, y_train):\n",
    "        print(\"Run Training...\")\n",
    "        for item in self.models:\n",
    "            #desctuct values from each item\n",
    "            name, model, acc, time_trained = item.values()\n",
    "            \n",
    "            # calculate the time and train the model\n",
    "            start = time.time()\n",
    "            print(f\"Training {name}...\")\n",
    "            model.fit(X_train, y_train)\n",
    "            end = time.time()\n",
    "            time_trained = round(end - start,2)\n",
    "            print(f'{model} trained in {time_trained} seconds')\n",
    "            \n",
    "            #save trained model and time\n",
    "            item['model'] = model\n",
    "            item['time_trained'] = time_trained\n",
    "        print(\"Training completed successfully!\")\n",
    "        \n",
    "    # handels scoring given models\n",
    "    def score(self, X_test, y_test):\n",
    "        print(\"Run Scoring...\")\n",
    "        for item in self.models:\n",
    "            # desctruct values of each item\n",
    "            name, model, acc, time_trained = item.values()\n",
    "            \n",
    "            # calculate the accuracy\n",
    "            acc = model.score(X_test, y_test)\n",
    "            display(Markdown(f'{name} scored with {round(acc*100, 2)}%'))\n",
    "            # save accuracy: \n",
    "            item['acc'] = acc\n",
    "        print(\"Scoring completed successfully!\")\n",
    "    \n",
    "    # checks which model did best and returs it\n",
    "    def get_most_accurate_model(self):\n",
    "        best_model = None\n",
    "        max_score = 0\n",
    "        \n",
    "        for item in self.models:\n",
    "            # destruct values of each item:\n",
    "            name, model, acc, time_trained = item.values()\n",
    "            \n",
    "            # check if accuracy is best\n",
    "            if(acc > max_score):\n",
    "                max_score = acc\n",
    "                best_model = model\n",
    "\n",
    "        # return best model\n",
    "        return best_model\n",
    "    \n",
    "    # handels testing model\n",
    "    def test(self, model,  text_message, label):\n",
    "        display(Markdown((f\"Model used **{model}**\" )))\n",
    "        message_vec = self.cv.transform([text_message])\n",
    "        prediction = model.predict(message_vec)\n",
    "        \n",
    "        display(Markdown((f\"#### Given Label: **{label}**\")))\n",
    "        display(Markdown((f\"#### Predicted label: **{prediction[0]}**\" )))\n",
    "        display(Markdown((f\"**Email message:**\")))\n",
    "        display(Markdown((text_message)))        "
   ]
  },
  {
   "cell_type": "markdown",
   "id": "86d7ce40",
   "metadata": {},
   "source": [
    "### 6. Data analysis"
   ]
  },
  {
   "cell_type": "markdown",
   "id": "950330d4",
   "metadata": {},
   "source": [
    "#### Preparate the data"
   ]
  },
  {
   "cell_type": "code",
   "execution_count": 313,
   "id": "3bca5fb0",
   "metadata": {
    "scrolled": true
   },
   "outputs": [],
   "source": [
    "# Get data from preparator:\n",
    "data = DataPreparator(\"spam_ham_dataset.csv\")\n",
    "\n",
    "# analize the data: \n",
    "data.analize()"
   ]
  },
  {
   "cell_type": "markdown",
   "id": "ac5180ee",
   "metadata": {},
   "source": [
    "#### Show 10 rows of dataset"
   ]
  },
  {
   "cell_type": "code",
   "execution_count": 314,
   "id": "c9c1b51f",
   "metadata": {
    "scrolled": true
   },
   "outputs": [
    {
     "data": {
      "text/html": [
       "<div>\n",
       "<style scoped>\n",
       "    .dataframe tbody tr th:only-of-type {\n",
       "        vertical-align: middle;\n",
       "    }\n",
       "\n",
       "    .dataframe tbody tr th {\n",
       "        vertical-align: top;\n",
       "    }\n",
       "\n",
       "    .dataframe thead th {\n",
       "        text-align: right;\n",
       "    }\n",
       "</style>\n",
       "<table border=\"1\" class=\"dataframe\">\n",
       "  <thead>\n",
       "    <tr style=\"text-align: right;\">\n",
       "      <th></th>\n",
       "      <th>id</th>\n",
       "      <th>label</th>\n",
       "      <th>text</th>\n",
       "      <th>label_num</th>\n",
       "    </tr>\n",
       "  </thead>\n",
       "  <tbody>\n",
       "    <tr>\n",
       "      <th>0</th>\n",
       "      <td>605</td>\n",
       "      <td>ham</td>\n",
       "      <td>Subject: enron methanol ; meter # : 988291\\r\\n...</td>\n",
       "      <td>0</td>\n",
       "    </tr>\n",
       "    <tr>\n",
       "      <th>1</th>\n",
       "      <td>2349</td>\n",
       "      <td>ham</td>\n",
       "      <td>Subject: hpl nom for january 9 , 2001\\r\\n( see...</td>\n",
       "      <td>0</td>\n",
       "    </tr>\n",
       "    <tr>\n",
       "      <th>2</th>\n",
       "      <td>3624</td>\n",
       "      <td>ham</td>\n",
       "      <td>Subject: neon retreat\\r\\nho ho ho , we ' re ar...</td>\n",
       "      <td>0</td>\n",
       "    </tr>\n",
       "    <tr>\n",
       "      <th>3</th>\n",
       "      <td>4685</td>\n",
       "      <td>spam</td>\n",
       "      <td>Subject: photoshop , windows , office . cheap ...</td>\n",
       "      <td>1</td>\n",
       "    </tr>\n",
       "    <tr>\n",
       "      <th>4</th>\n",
       "      <td>2030</td>\n",
       "      <td>ham</td>\n",
       "      <td>Subject: re : indian springs\\r\\nthis deal is t...</td>\n",
       "      <td>0</td>\n",
       "    </tr>\n",
       "    <tr>\n",
       "      <th>5</th>\n",
       "      <td>2949</td>\n",
       "      <td>ham</td>\n",
       "      <td>Subject: ehronline web address change\\r\\nthis ...</td>\n",
       "      <td>0</td>\n",
       "    </tr>\n",
       "    <tr>\n",
       "      <th>6</th>\n",
       "      <td>2793</td>\n",
       "      <td>ham</td>\n",
       "      <td>Subject: spring savings certificate - take 30 ...</td>\n",
       "      <td>0</td>\n",
       "    </tr>\n",
       "    <tr>\n",
       "      <th>7</th>\n",
       "      <td>4185</td>\n",
       "      <td>spam</td>\n",
       "      <td>Subject: looking for medication ? we ` re the ...</td>\n",
       "      <td>1</td>\n",
       "    </tr>\n",
       "    <tr>\n",
       "      <th>8</th>\n",
       "      <td>2641</td>\n",
       "      <td>ham</td>\n",
       "      <td>Subject: noms / actual flow for 2 / 26\\r\\nwe a...</td>\n",
       "      <td>0</td>\n",
       "    </tr>\n",
       "    <tr>\n",
       "      <th>9</th>\n",
       "      <td>1870</td>\n",
       "      <td>ham</td>\n",
       "      <td>Subject: nominations for oct . 21 - 23 , 2000\\...</td>\n",
       "      <td>0</td>\n",
       "    </tr>\n",
       "  </tbody>\n",
       "</table>\n",
       "</div>"
      ],
      "text/plain": [
       "     id label                                               text  label_num\n",
       "0   605   ham  Subject: enron methanol ; meter # : 988291\\r\\n...          0\n",
       "1  2349   ham  Subject: hpl nom for january 9 , 2001\\r\\n( see...          0\n",
       "2  3624   ham  Subject: neon retreat\\r\\nho ho ho , we ' re ar...          0\n",
       "3  4685  spam  Subject: photoshop , windows , office . cheap ...          1\n",
       "4  2030   ham  Subject: re : indian springs\\r\\nthis deal is t...          0\n",
       "5  2949   ham  Subject: ehronline web address change\\r\\nthis ...          0\n",
       "6  2793   ham  Subject: spring savings certificate - take 30 ...          0\n",
       "7  4185  spam  Subject: looking for medication ? we ` re the ...          1\n",
       "8  2641   ham  Subject: noms / actual flow for 2 / 26\\r\\nwe a...          0\n",
       "9  1870   ham  Subject: nominations for oct . 21 - 23 , 2000\\...          0"
      ]
     },
     "execution_count": 314,
     "metadata": {},
     "output_type": "execute_result"
    }
   ],
   "source": [
    "# get 10 rows from dataset: \n",
    "data.get_dataframe_head(10)"
   ]
  },
  {
   "cell_type": "markdown",
   "id": "c94b22be",
   "metadata": {},
   "source": [
    "#### Show summary of the data"
   ]
  },
  {
   "cell_type": "code",
   "execution_count": 315,
   "id": "6752aa36",
   "metadata": {},
   "outputs": [
    {
     "data": {
      "text/markdown": [
       " Dataset contains **5171** emails<br> \n",
       "                    Messages marked as HAM: **3672**<br>\n",
       "                    Messages marked as SPAM: **1499**<br>\n",
       "                    Total words count: **1083244** words<br>\n",
       "                    Average words per e-mail:  **~209.48**"
      ],
      "text/plain": [
       "<IPython.core.display.Markdown object>"
      ]
     },
     "metadata": {},
     "output_type": "display_data"
    },
    {
     "name": "stdout",
     "output_type": "stream",
     "text": [
      "\n"
     ]
    }
   ],
   "source": [
    "# print informations about dataset:\n",
    "print(data)"
   ]
  },
  {
   "cell_type": "markdown",
   "id": "4ed8aaa3",
   "metadata": {},
   "source": [
    "#### Plot the amount of ham and spam messages"
   ]
  },
  {
   "cell_type": "code",
   "execution_count": 310,
   "id": "20498177",
   "metadata": {
    "scrolled": false
   },
   "outputs": [
    {
     "data": {
      "image/png": "[encoded data removed]",
      "text/plain": [
       "<Figure size 432x288 with 1 Axes>"
      ]
     },
     "metadata": {
      "needs_background": "light"
     },
     "output_type": "display_data"
    }
   ],
   "source": [
    "plot = Plots(data)\n",
    "plot.plot_ham_to_spam_ratio()"
   ]
  },
  {
   "cell_type": "markdown",
   "id": "c057d651",
   "metadata": {},
   "source": [
    "### 7. Data Cleaning\n",
    "> We are removing stop words and most frequent words\n",
    "> Also on we run lemmatization on the e-mail messages"
   ]
  },
  {
   "cell_type": "code",
   "execution_count": 352,
   "id": "68522b5e",
   "metadata": {},
   "outputs": [
    {
     "name": "stdout",
     "output_type": "stream",
     "text": [
      "Cleaning contents...\n",
      "Contents cleaned!\n",
      "Cleaning stop words...\n",
      "Stop words removed!\n",
      "Run lemmatization...\n",
      "Lemmatization complete!\n",
      "Removing most frequent words...\n",
      "Most frequent words removed!\n"
     ]
    },
    {
     "data": {
      "text/markdown": [
       "**Message before cleaning:**"
      ],
      "text/plain": [
       "<IPython.core.display.Markdown object>"
      ]
     },
     "metadata": {},
     "output_type": "display_data"
    },
    {
     "data": {
      "text/markdown": [
       "Subject: enron methanol ; meter # : 988291\r\n",
       "this is a follow up to the note i gave you on monday , 4 / 3 / 00 { preliminary\r\n",
       "flow data provided by daren } .\r\n",
       "please override pop ' s daily volume { presently zero } to reflect daily\r\n",
       "activity you can obtain from gas control .\r\n",
       "this change is needed asap for economics purposes ."
      ],
      "text/plain": [
       "<IPython.core.display.Markdown object>"
      ]
     },
     "metadata": {},
     "output_type": "display_data"
    },
    {
     "data": {
      "text/markdown": [
       "**Message after cleaning:**"
      ],
      "text/plain": [
       "<IPython.core.display.Markdown object>"
      ]
     },
     "metadata": {},
     "output_type": "display_data"
    },
    {
     "data": {
      "text/markdown": [
       "methanol follow note gave monday preliminary flow data provided override pop daily presently zero reflect daily activity obtain control needed asap economics purpose"
      ],
      "text/plain": [
       "<IPython.core.display.Markdown object>"
      ]
     },
     "metadata": {},
     "output_type": "display_data"
    }
   ],
   "source": [
    "# Clean Data\n",
    "clean_data = DataCleaner(data)\n",
    "\n",
    "# Run cleaning\n",
    "clean_data.applying_clean_contents()\n",
    "clean_data.cleaning_stopwords()\n",
    "clean_data.lemmatization()\n",
    "data_head = clean_data.clean_most_frequent_words()\n",
    "\n",
    "display(Markdown(\"**Message before cleaning:**\"))\n",
    "display(Markdown(data_head['text'][0]))\n",
    "\n",
    "display(Markdown(\"**Message after cleaning:**\"))\n",
    "display(Markdown(data_head['text_clean'][0]))"
   ]
  },
  {
   "cell_type": "markdown",
   "id": "a6cd3eaa",
   "metadata": {},
   "source": [
    "### 8. Data Vectorizing"
   ]
  },
  {
   "cell_type": "code",
   "execution_count": 363,
   "id": "2d5e9aaf",
   "metadata": {},
   "outputs": [
    {
     "name": "stdout",
     "output_type": "stream",
     "text": [
      "['aaihmqv', 'aalland', 'aamlrg', 'aare', 'aaron', 'aavilable', 'ab', 'ababa', 'aback', 'abacus', 'abandon', 'abandoned', 'abasement', 'abashed', 'abater', 'abb', 'abbasi', 'abbey', 'abbott', 'abbreviation']\n"
     ]
    }
   ],
   "source": [
    "# Create vectors form messages \n",
    "vectors = VectorAndTrain(clean_data)  \n",
    "X, y = vectors.vectorization()\n",
    "\n",
    "# split dataset to train and test:\n",
    "X_train, X_test, y_train, y_test = vectors.train(X,y)"
   ]
  },
  {
   "cell_type": "markdown",
   "id": "3cfb5a1b",
   "metadata": {},
   "source": [
    "### 9. Model Training\n",
    "> We are choosing most common Classifiers to train on our cleaned dataset.\n"
   ]
  },
  {
   "cell_type": "code",
   "execution_count": 369,
   "id": "28f0881d",
   "metadata": {
    "scrolled": true
   },
   "outputs": [
    {
     "name": "stdout",
     "output_type": "stream",
     "text": [
      "Run Training...\n",
      "Training RandomForest...\n",
      "RandomForestClassifier() trained in 5.53 seconds\n",
      "Training KNeighbors...\n",
      "KNeighborsClassifier() trained in 0.0 seconds\n",
      "Training LogisticRegress...\n",
      "LogisticRegression() trained in 0.24 seconds\n",
      "Training DecisionTree...\n",
      "DecisionTreeClassifier() trained in 0.98 seconds\n",
      "Training completed successfully!\n",
      "Run Scoring...\n"
     ]
    },
    {
     "data": {
      "text/markdown": [
       "RandomForest scored with 96.81%"
      ],
      "text/plain": [
       "<IPython.core.display.Markdown object>"
      ]
     },
     "metadata": {},
     "output_type": "display_data"
    },
    {
     "data": {
      "text/markdown": [
       "KNeighbors scored with 78.45%"
      ],
      "text/plain": [
       "<IPython.core.display.Markdown object>"
      ]
     },
     "metadata": {},
     "output_type": "display_data"
    },
    {
     "data": {
      "text/markdown": [
       "LogisticRegress scored with 97.39%"
      ],
      "text/plain": [
       "<IPython.core.display.Markdown object>"
      ]
     },
     "metadata": {},
     "output_type": "display_data"
    },
    {
     "data": {
      "text/markdown": [
       "DecisionTree scored with 91.98%"
      ],
      "text/plain": [
       "<IPython.core.display.Markdown object>"
      ]
     },
     "metadata": {},
     "output_type": "display_data"
    },
    {
     "name": "stdout",
     "output_type": "stream",
     "text": [
      "Scoring completed successfully!\n"
     ]
    }
   ],
   "source": [
    "# Create model evaluator\n",
    "modelEval = ModelEvaluator(third_step.get_cv())\n",
    "\n",
    "# add couple of models to model evaluator \n",
    "modelEval.add(\"RandomForest\", RandomForestClassifier())\n",
    "modelEval.add(\"KNeighbors\", KNeighborsClassifier())\n",
    "modelEval.add(\"LogisticRegress\", LogisticRegression())\n",
    "modelEval.add(\"DecisionTree\", DecisionTreeClassifier())\n",
    "\n",
    "# train models\n",
    "modelEval.train(X_train, y_train)"
   ]
  },
  {
   "cell_type": "markdown",
   "id": "7c57a3e8",
   "metadata": {},
   "source": [
    "### 10. Model Scores"
   ]
  },
  {
   "cell_type": "code",
   "execution_count": null,
   "id": "7e458db5",
   "metadata": {},
   "outputs": [],
   "source": [
    "#score the models\n",
    "modelEval.score(X_test, y_test)"
   ]
  },
  {
   "cell_type": "markdown",
   "id": "8063333a",
   "metadata": {},
   "source": [
    "#### Checking which model did best\n",
    "> It seems that Logistic Reggresion and Random Forest did best."
   ]
  },
  {
   "cell_type": "code",
   "execution_count": 264,
   "id": "b16827de",
   "metadata": {},
   "outputs": [
    {
     "data": {
      "image/png": "[encoded data removed]",
      "text/plain": [
       "<Figure size 432x288 with 1 Axes>"
      ]
     },
     "metadata": {
      "needs_background": "light"
     },
     "output_type": "display_data"
    }
   ],
   "source": [
    "# get all trained models\n",
    "models_df = modelEval.get_models()\n",
    "plot.plot_accuracy(models_df)"
   ]
  },
  {
   "cell_type": "markdown",
   "id": "12d33d6f",
   "metadata": {},
   "source": [
    "### 11. Testing the model"
   ]
  },
  {
   "cell_type": "code",
   "execution_count": 265,
   "id": "44510b40",
   "metadata": {
    "scrolled": true
   },
   "outputs": [
    {
     "data": {
      "text/markdown": [
       "Model used **LogisticRegression()**"
      ],
      "text/plain": [
       "<IPython.core.display.Markdown object>"
      ]
     },
     "metadata": {},
     "output_type": "display_data"
    },
    {
     "data": {
      "text/markdown": [
       "#### Given Label: **spam**"
      ],
      "text/plain": [
       "<IPython.core.display.Markdown object>"
      ]
     },
     "metadata": {},
     "output_type": "display_data"
    },
    {
     "data": {
      "text/markdown": [
       "#### Predicted label: **spam**"
      ],
      "text/plain": [
       "<IPython.core.display.Markdown object>"
      ]
     },
     "metadata": {},
     "output_type": "display_data"
    },
    {
     "data": {
      "text/markdown": [
       "**Email message:**"
      ],
      "text/plain": [
       "<IPython.core.display.Markdown object>"
      ]
     },
     "metadata": {},
     "output_type": "display_data"
    },
    {
     "data": {
      "text/markdown": [
       "photoshop window office cheap main trending abasement darer prudently fortuitous undergone lighthearted charm orinoco taster railroad affluent pornographic cuvier irvin parkhouse blameworthy chlorophyll robed diagrammatic fogarty clear bayda inconveniencing managing represented smartness hashish academy shareholder unload badness danielson pure caffein spaniard chargeable levin"
      ],
      "text/plain": [
       "<IPython.core.display.Markdown object>"
      ]
     },
     "metadata": {},
     "output_type": "display_data"
    },
    {
     "name": "stdout",
     "output_type": "stream",
     "text": [
      "====================================================================================================\n"
     ]
    },
    {
     "data": {
      "text/markdown": [
       "Model used **LogisticRegression()**"
      ],
      "text/plain": [
       "<IPython.core.display.Markdown object>"
      ]
     },
     "metadata": {},
     "output_type": "display_data"
    },
    {
     "data": {
      "text/markdown": [
       "#### Given Label: **spam**"
      ],
      "text/plain": [
       "<IPython.core.display.Markdown object>"
      ]
     },
     "metadata": {},
     "output_type": "display_data"
    },
    {
     "data": {
      "text/markdown": [
       "#### Predicted label: **spam**"
      ],
      "text/plain": [
       "<IPython.core.display.Markdown object>"
      ]
     },
     "metadata": {},
     "output_type": "display_data"
    },
    {
     "data": {
      "text/markdown": [
       "**Email message:**"
      ],
      "text/plain": [
       "<IPython.core.display.Markdown object>"
      ]
     },
     "metadata": {},
     "output_type": "display_data"
    },
    {
     "data": {
      "text/markdown": [
       "looking medication best source difficult make material condition better best law easy enough ruin bad law excuse found best simpliest site medication net perscription easy delivery private secure easy better rightly pound week squint million got anything ever want erection treatment pill anti depressant pill weight loss splicing bombahakcx knowledge human power synonymous high quality stuff low rate moneyback guarantee god nature sufficeth unto wise hath author"
      ],
      "text/plain": [
       "<IPython.core.display.Markdown object>"
      ]
     },
     "metadata": {},
     "output_type": "display_data"
    },
    {
     "name": "stdout",
     "output_type": "stream",
     "text": [
      "====================================================================================================\n"
     ]
    },
    {
     "data": {
      "text/markdown": [
       "Model used **LogisticRegression()**"
      ],
      "text/plain": [
       "<IPython.core.display.Markdown object>"
      ]
     },
     "metadata": {},
     "output_type": "display_data"
    },
    {
     "data": {
      "text/markdown": [
       "#### Given Label: **spam**"
      ],
      "text/plain": [
       "<IPython.core.display.Markdown object>"
      ]
     },
     "metadata": {},
     "output_type": "display_data"
    },
    {
     "data": {
      "text/markdown": [
       "#### Predicted label: **spam**"
      ],
      "text/plain": [
       "<IPython.core.display.Markdown object>"
      ]
     },
     "metadata": {},
     "output_type": "display_data"
    },
    {
     "data": {
      "text/markdown": [
       "**Email message:**"
      ],
      "text/plain": [
       "<IPython.core.display.Markdown object>"
      ]
     },
     "metadata": {},
     "output_type": "display_data"
    },
    {
     "data": {
      "text/markdown": [
       "vocable rnd word asceticism vcsc brand stock attention vocalscape inc stock symbol vcsc vcsc top stock pick april stock expected bounce cent level stock hit low bounce back stock going explode next watch soar watch stock go crazy next week breaking news vocalscape inc announces agreement resell mix network service current expect projected speculative next expect projected speculative next vocalscape network inc building revolutionizing telecommunication industry affordable phone system hardware online software rate canada vocalscape global reach receiving international attention development voice ip voip application solution including award winning eyefontm softphone real pc phone advanced implementer pbx system call center itsps service provider vocalscape created software interactive solution revolving around global communication data voice convergence use vocalscape voice internet protocol application like ip pbxs softswitches pc phone web phone providing real human interaction delivery internet vocalscape solution business offer quality voice service anywhere world rate significantly lower current long distance charge develop software run voip network sell install service branded voip gateway gatekeeper control software also license software customer want brand voip solution vocalscape committed making great technology challenging status quo building st century way business communicate interact internet current expect projected speculative next expect projected speculative next breaking news vocalscape inc announces agreement resell mix network service katonah n prnewswire firstcall via comtex vocalscape inc pink vcsc emerging leader development voice internet protocol voip telephony solution announced today entered sale agent agreement mix network inc voip enhanced telephony service provider agreement provides vocalscape turnkey calling card customer access mix network service including north american dids phone number domestic long distance termination vocalscape also able supply client enhanced voip product including pre paid calling mix network north american network excited help launch voip business model using solution whole picture software network needed route call mix network give ability offer wholesale monthly flat rate plan dids client allow build business model like popular voip vonage packet say ryan gibson vp vocalscape network legal word continue within email contains forward looking statement within meaning section security act section b security exchange act statement express involve discussion respect prediction goal expectation belief plan projection objective assumption future event performance statement historical fact forward looking statement forward looking statement based expectation estimate projection statement made involve number risk uncertainty could cause actual result event differ materially presently anticipated forward looking statement action identified use word project foresee expects estimate belief understands part anticipates statement indicating certain action could might occur provided within email pertaining investing stock security must understood provided investment advice emerging equity alert advises reader subscriber seek advice registered professional security representative deciding trade stock featured within email none material within report shall construed kind investment advice mind interpretation witer newsletter news published represent official statement fact differ real meaning news release meant say look news release judge detail compliance section b disclose holding vcsc share prior publication report aware inherent conflict interest resulting holding due intent profit liquidation share share sold even positive statement made regarding since share inherent conflict interest statement opinion reader publication cautioned place undue reliance forward looking statement based certain assumption expectation involving various risk uncertainty could cause result differ materially set forth forward looking statement advised nothing within email shall constitute solicitation invitation position sell security mentioned herein newsletter neither registered investment advisor affiliated broker dealer newsletter paid third party send report statement made express opinion treated take position sell security mentioned report includes forward looking statement within meaning private security litigation reform act statement include term projected speculative expect believe soar move undervalued intend similar term"
      ],
      "text/plain": [
       "<IPython.core.display.Markdown object>"
      ]
     },
     "metadata": {},
     "output_type": "display_data"
    },
    {
     "name": "stdout",
     "output_type": "stream",
     "text": [
      "====================================================================================================\n"
     ]
    },
    {
     "data": {
      "text/markdown": [
       "Model used **LogisticRegression()**"
      ],
      "text/plain": [
       "<IPython.core.display.Markdown object>"
      ]
     },
     "metadata": {},
     "output_type": "display_data"
    },
    {
     "data": {
      "text/markdown": [
       "#### Given Label: **ham**"
      ],
      "text/plain": [
       "<IPython.core.display.Markdown object>"
      ]
     },
     "metadata": {},
     "output_type": "display_data"
    },
    {
     "data": {
      "text/markdown": [
       "#### Predicted label: **ham**"
      ],
      "text/plain": [
       "<IPython.core.display.Markdown object>"
      ]
     },
     "metadata": {},
     "output_type": "display_data"
    },
    {
     "data": {
      "text/markdown": [
       "**Email message:**"
      ],
      "text/plain": [
       "<IPython.core.display.Markdown object>"
      ]
     },
     "metadata": {},
     "output_type": "display_data"
    },
    {
     "data": {
      "text/markdown": [
       "methanol follow note gave monday preliminary flow data provided override pop daily presently zero reflect daily activity obtain control needed asap economics purpose"
      ],
      "text/plain": [
       "<IPython.core.display.Markdown object>"
      ]
     },
     "metadata": {},
     "output_type": "display_data"
    },
    {
     "name": "stdout",
     "output_type": "stream",
     "text": [
      "====================================================================================================\n"
     ]
    },
    {
     "data": {
      "text/markdown": [
       "Model used **LogisticRegression()**"
      ],
      "text/plain": [
       "<IPython.core.display.Markdown object>"
      ]
     },
     "metadata": {},
     "output_type": "display_data"
    },
    {
     "data": {
      "text/markdown": [
       "#### Given Label: **ham**"
      ],
      "text/plain": [
       "<IPython.core.display.Markdown object>"
      ]
     },
     "metadata": {},
     "output_type": "display_data"
    },
    {
     "data": {
      "text/markdown": [
       "#### Predicted label: **ham**"
      ],
      "text/plain": [
       "<IPython.core.display.Markdown object>"
      ]
     },
     "metadata": {},
     "output_type": "display_data"
    },
    {
     "data": {
      "text/markdown": [
       "**Email message:**"
      ],
      "text/plain": [
       "<IPython.core.display.Markdown object>"
      ]
     },
     "metadata": {},
     "output_type": "display_data"
    },
    {
     "data": {
      "text/markdown": [
       "nom january file hplnol hplnol"
      ],
      "text/plain": [
       "<IPython.core.display.Markdown object>"
      ]
     },
     "metadata": {},
     "output_type": "display_data"
    },
    {
     "name": "stdout",
     "output_type": "stream",
     "text": [
      "====================================================================================================\n"
     ]
    },
    {
     "data": {
      "text/markdown": [
       "Model used **LogisticRegression()**"
      ],
      "text/plain": [
       "<IPython.core.display.Markdown object>"
      ]
     },
     "metadata": {},
     "output_type": "display_data"
    },
    {
     "data": {
      "text/markdown": [
       "#### Given Label: **ham**"
      ],
      "text/plain": [
       "<IPython.core.display.Markdown object>"
      ]
     },
     "metadata": {},
     "output_type": "display_data"
    },
    {
     "data": {
      "text/markdown": [
       "#### Predicted label: **ham**"
      ],
      "text/plain": [
       "<IPython.core.display.Markdown object>"
      ]
     },
     "metadata": {},
     "output_type": "display_data"
    },
    {
     "data": {
      "text/markdown": [
       "**Email message:**"
      ],
      "text/plain": [
       "<IPython.core.display.Markdown object>"
      ]
     },
     "metadata": {},
     "output_type": "display_data"
    },
    {
     "data": {
      "text/markdown": [
       "neon retreat ho ho ho around wonderful year neon leader retreat year extremely hectic tough think anything past holiday life go past week december january like think minute calender handed beginning fall semester retreat scheduled weekend january youth minister conference brad dustin connected week going date following weekend january come part think think agree important together recharge battery far spring semester lot trouble difficult away without kid etc brad came potential alternative together weekend prefer first option retreat similar done past several year year could go heartland country inn www outside brenham nice place bedroom bedroom house side side country real relaxing also close brenham one hour minute golf shop antique craft store brenham eat dinner together ranch spend meet saturday return sunday morning like done past second option stay houston dinner together nice restaurant dessert visiting recharging one home saturday evening might easier trade much together decide email back preference course available weekend democratic process prevail majority vote rule hear soon possible preferably end weekend vote go way complaining allowed like tend great weekend great golf great fishing great shopping whatever make happy bobby"
      ],
      "text/plain": [
       "<IPython.core.display.Markdown object>"
      ]
     },
     "metadata": {},
     "output_type": "display_data"
    },
    {
     "name": "stdout",
     "output_type": "stream",
     "text": [
      "====================================================================================================\n"
     ]
    }
   ],
   "source": [
    "# get the most accurate model:\n",
    "best_model = modelEval.get_most_accurate_model()\n",
    "\n",
    "#test the model\n",
    "df_spam = third_step.df[third_step.df['label'] == 'spam']\n",
    "df_ham = third_step.df[third_step.df['label'] == 'ham']\n",
    "\n",
    "num_of_test = 3\n",
    "\n",
    "# Test spam prediction\n",
    "for i in range(0, num_of_test):\n",
    "    modelEval.test(best_model, df_spam['text_clean'].iloc[i], df_spam['label'].iloc[i])\n",
    "    print(\"=\"*100)\n",
    "\n",
    "# Test ham prediction\n",
    "for i in range(0, num_of_test):\n",
    "    modelEval.test(best_model, df_ham['text_clean'].iloc[i], df_ham['label'].iloc[i])\n",
    "    print(\"=\"*100)"
   ]
  }
 ],
 "metadata": {
  "kernelspec": {
   "display_name": "Python 3",
   "language": "python",
   "name": "python3"
  },
  "language_info": {
   "codemirror_mode": {
    "name": "ipython",
    "version": 3
   },
   "file_extension": ".py",
   "mimetype": "text/x-python",
   "name": "python",
   "nbconvert_exporter": "python",
   "pygments_lexer": "ipython3",
   "version": "3.8.8"
  }
 },
 "nbformat": 4,
 "nbformat_minor": 5
}
