{
 "cells": [
  {
   "cell_type": "markdown",
   "id": "57b9f7ed",
   "metadata": {},
   "source": [
    "# Uczenie maszynowe w Python - Zaliczenie\n",
    "## E-mail spam classifier"
   ]
  },
  {
   "cell_type": "markdown",
   "id": "cfdf91c9",
   "metadata": {},
   "source": [
    "## Important \n",
    "<ul>\n",
    "    <li>Dodać klasy: moje propozycje to:</li>\n",
    "    <ul>\n",
    "        <li>Data Analizer - dostaje dane posiada funckje analize() i zwrca wszelkie informacje o danych (shape, ham amout, spam amount, words per email, words in total)</li>\n",
    "        <li>DataCleaner - dostaje columne texts i posiada funkcje clean(), zwraca text_clean</li>\n",
    "        <li>ModelTester</li>\n",
    "    </ul>\n",
    "</ul>"
   ]
  },
  {
   "cell_type": "code",
   "execution_count": 222,
   "id": "328badd6",
   "metadata": {
    "scrolled": true
   },
   "outputs": [
    {
     "name": "stderr",
     "output_type": "stream",
     "text": [
      "[nltk_data] Downloading package wordnet to C:\\Users\\PC\n",
      "[nltk_data]     COMPUTER\\AppData\\Roaming\\nltk_data...\n",
      "[nltk_data]   Package wordnet is already up-to-date!\n",
      "[nltk_data] Downloading package stopwords to C:\\Users\\PC\n",
      "[nltk_data]     COMPUTER\\AppData\\Roaming\\nltk_data...\n",
      "[nltk_data]   Package stopwords is already up-to-date!\n"
     ]
    }
   ],
   "source": [
    "# imports\n",
    "import numpy as np\n",
    "import pandas as pd\n",
    "import matplotlib.pyplot as plt\n",
    "from nltk.corpus import stopwords\n",
    "import nltk\n",
    "from nltk.tokenize import RegexpTokenizer\n",
    "from textblob import Word\n",
    "nltk.download('wordnet')\n",
    "nltk.download('stopwords')\n",
    "\n",
    "from sklearn.model_selection import train_test_split\n",
    "from sklearn.tree import DecisionTreeClassifier\n",
    "from sklearn.neighbors import KNeighborsClassifier\n",
    "from sklearn.linear_model import LogisticRegression\n",
    "from sklearn.ensemble import RandomForestClassifier\n",
    "import time"
   ]
  },
  {
   "cell_type": "markdown",
   "id": "deeddca4",
   "metadata": {},
   "source": [
    "## 1. Analysis of the dataset"
   ]
  },
  {
   "cell_type": "code",
   "execution_count": 79,
   "id": "e781aca5",
   "metadata": {},
   "outputs": [
    {
     "data": {
      "text/html": [
       "<div>\n",
       "<style scoped>\n",
       "    .dataframe tbody tr th:only-of-type {\n",
       "        vertical-align: middle;\n",
       "    }\n",
       "\n",
       "    .dataframe tbody tr th {\n",
       "        vertical-align: top;\n",
       "    }\n",
       "\n",
       "    .dataframe thead th {\n",
       "        text-align: right;\n",
       "    }\n",
       "</style>\n",
       "<table border=\"1\" class=\"dataframe\">\n",
       "  <thead>\n",
       "    <tr style=\"text-align: right;\">\n",
       "      <th></th>\n",
       "      <th>id</th>\n",
       "      <th>label</th>\n",
       "      <th>text</th>\n",
       "      <th>label_num</th>\n",
       "    </tr>\n",
       "  </thead>\n",
       "  <tbody>\n",
       "    <tr>\n",
       "      <th>0</th>\n",
       "      <td>605</td>\n",
       "      <td>ham</td>\n",
       "      <td>Subject: enron methanol ; meter # : 988291\\r\\n...</td>\n",
       "      <td>0</td>\n",
       "    </tr>\n",
       "    <tr>\n",
       "      <th>1</th>\n",
       "      <td>2349</td>\n",
       "      <td>ham</td>\n",
       "      <td>Subject: hpl nom for january 9 , 2001\\r\\n( see...</td>\n",
       "      <td>0</td>\n",
       "    </tr>\n",
       "    <tr>\n",
       "      <th>2</th>\n",
       "      <td>3624</td>\n",
       "      <td>ham</td>\n",
       "      <td>Subject: neon retreat\\r\\nho ho ho , we ' re ar...</td>\n",
       "      <td>0</td>\n",
       "    </tr>\n",
       "    <tr>\n",
       "      <th>3</th>\n",
       "      <td>4685</td>\n",
       "      <td>spam</td>\n",
       "      <td>Subject: photoshop , windows , office . cheap ...</td>\n",
       "      <td>1</td>\n",
       "    </tr>\n",
       "    <tr>\n",
       "      <th>4</th>\n",
       "      <td>2030</td>\n",
       "      <td>ham</td>\n",
       "      <td>Subject: re : indian springs\\r\\nthis deal is t...</td>\n",
       "      <td>0</td>\n",
       "    </tr>\n",
       "  </tbody>\n",
       "</table>\n",
       "</div>"
      ],
      "text/plain": [
       "     id label                                               text  label_num\n",
       "0   605   ham  Subject: enron methanol ; meter # : 988291\\r\\n...          0\n",
       "1  2349   ham  Subject: hpl nom for january 9 , 2001\\r\\n( see...          0\n",
       "2  3624   ham  Subject: neon retreat\\r\\nho ho ho , we ' re ar...          0\n",
       "3  4685  spam  Subject: photoshop , windows , office . cheap ...          1\n",
       "4  2030   ham  Subject: re : indian springs\\r\\nthis deal is t...          0"
      ]
     },
     "execution_count": 79,
     "metadata": {},
     "output_type": "execute_result"
    }
   ],
   "source": [
    "#get the dataset\n",
    "df = pd.read_csv(\"spam_ham_dataset.csv\")\n",
    "\n",
    "# label the unnamed column with ids\n",
    "df.rename(columns={'Unnamed: 0': 'id'}, inplace = True)\n",
    "\n",
    "#show 5 rows\n",
    "df.head()"
   ]
  },
  {
   "cell_type": "code",
   "execution_count": 80,
   "id": "7b3944b8",
   "metadata": {},
   "outputs": [],
   "source": [
    "# assign information about data to variables\n",
    "\n",
    "# amount of emails in the dataset\n",
    "emailAmount = df.shape[0] \n",
    "\n",
    "# Series with the amount of words in each email and their total count\n",
    "wordsInEmails = (df['text'].apply(lambda x: len(str(x).split(\" \"))))\n",
    "wordCount = np.sum(wordsInEmails)\n",
    "\n",
    "# average amount of words in each email\n",
    "avgWords = round(np.divide(wordCount, emailAmount), 2)\n",
    "\n",
    "# amount of spam and ham emails \n",
    "hamAndSpamAmount= df.groupby(['label']).count()\n",
    "\n",
    "hamAmount = hamAndSpamAmount.iloc[0, 0]\n",
    "spamAmount = hamAndSpamAmount.iloc[1, 0]"
   ]
  },
  {
   "cell_type": "code",
   "execution_count": 81,
   "id": "ac68dad2",
   "metadata": {},
   "outputs": [
    {
     "name": "stdout",
     "output_type": "stream",
     "text": [
      "The dataset contains 5171 emails, 3672 of which are labeled as non-spam and 1499 as spam. Between the emails, theres a total of 1083244 words, with an average of ~209.48 words per email.\n"
     ]
    }
   ],
   "source": [
    "# print out the information about the dataset\n",
    "\n",
    "print(f'The dataset contains {emailAmount} emails, {hamAmount} of which are labeled as non-spam' + \n",
    "      f' and {spamAmount} as spam. Between the emails, theres a total of {wordCount} words,' +\n",
    "      f' with an average of ~{avgWords} words per email.')"
   ]
  },
  {
   "cell_type": "code",
   "execution_count": 82,
   "id": "b83df15b",
   "metadata": {},
   "outputs": [
    {
     "data": {
      "text/html": [
       "<div>\n",
       "<style scoped>\n",
       "    .dataframe tbody tr th:only-of-type {\n",
       "        vertical-align: middle;\n",
       "    }\n",
       "\n",
       "    .dataframe tbody tr th {\n",
       "        vertical-align: top;\n",
       "    }\n",
       "\n",
       "    .dataframe thead th {\n",
       "        text-align: right;\n",
       "    }\n",
       "</style>\n",
       "<table border=\"1\" class=\"dataframe\">\n",
       "  <thead>\n",
       "    <tr style=\"text-align: right;\">\n",
       "      <th></th>\n",
       "      <th>id</th>\n",
       "      <th>label</th>\n",
       "      <th>text</th>\n",
       "      <th>label_num</th>\n",
       "      <th>text_clean</th>\n",
       "    </tr>\n",
       "  </thead>\n",
       "  <tbody>\n",
       "    <tr>\n",
       "      <th>0</th>\n",
       "      <td>605</td>\n",
       "      <td>ham</td>\n",
       "      <td>Subject: enron methanol ; meter # : 988291\\r\\n...</td>\n",
       "      <td>0</td>\n",
       "      <td>subject enron methanol meter this is a follow ...</td>\n",
       "    </tr>\n",
       "    <tr>\n",
       "      <th>1</th>\n",
       "      <td>2349</td>\n",
       "      <td>ham</td>\n",
       "      <td>Subject: hpl nom for january 9 , 2001\\r\\n( see...</td>\n",
       "      <td>0</td>\n",
       "      <td>subject hpl nom for january see attached file ...</td>\n",
       "    </tr>\n",
       "    <tr>\n",
       "      <th>2</th>\n",
       "      <td>3624</td>\n",
       "      <td>ham</td>\n",
       "      <td>Subject: neon retreat\\r\\nho ho ho , we ' re ar...</td>\n",
       "      <td>0</td>\n",
       "      <td>subject neon retreat ho ho ho we re around to ...</td>\n",
       "    </tr>\n",
       "    <tr>\n",
       "      <th>3</th>\n",
       "      <td>4685</td>\n",
       "      <td>spam</td>\n",
       "      <td>Subject: photoshop , windows , office . cheap ...</td>\n",
       "      <td>1</td>\n",
       "      <td>subject photoshop windows office cheap main tr...</td>\n",
       "    </tr>\n",
       "    <tr>\n",
       "      <th>4</th>\n",
       "      <td>2030</td>\n",
       "      <td>ham</td>\n",
       "      <td>Subject: re : indian springs\\r\\nthis deal is t...</td>\n",
       "      <td>0</td>\n",
       "      <td>subject re indian springs this deal is to book...</td>\n",
       "    </tr>\n",
       "  </tbody>\n",
       "</table>\n",
       "</div>"
      ],
      "text/plain": [
       "     id label                                               text  label_num  \\\n",
       "0   605   ham  Subject: enron methanol ; meter # : 988291\\r\\n...          0   \n",
       "1  2349   ham  Subject: hpl nom for january 9 , 2001\\r\\n( see...          0   \n",
       "2  3624   ham  Subject: neon retreat\\r\\nho ho ho , we ' re ar...          0   \n",
       "3  4685  spam  Subject: photoshop , windows , office . cheap ...          1   \n",
       "4  2030   ham  Subject: re : indian springs\\r\\nthis deal is t...          0   \n",
       "\n",
       "                                          text_clean  \n",
       "0  subject enron methanol meter this is a follow ...  \n",
       "1  subject hpl nom for january see attached file ...  \n",
       "2  subject neon retreat ho ho ho we re around to ...  \n",
       "3  subject photoshop windows office cheap main tr...  \n",
       "4  subject re indian springs this deal is to book...  "
      ]
     },
     "execution_count": 82,
     "metadata": {},
     "output_type": "execute_result"
    }
   ],
   "source": [
    "# clean the contents of each email\n",
    "\n",
    "def clean_contents(string, reg = RegexpTokenizer(r'[a-z]+')):\n",
    "    string = string.lower()\n",
    "    tokens = reg.tokenize(string)\n",
    "    return \" \".join(tokens)\n",
    "\n",
    "# apply the function to each row of the dataframe\n",
    "df['text_clean'] = df['text'].apply(lambda string: clean_contents(string))\n",
    "\n",
    "# show the first rows cleaned\n",
    "df.head()"
   ]
  },
  {
   "cell_type": "code",
   "execution_count": 83,
   "id": "94cd8c3f",
   "metadata": {},
   "outputs": [
    {
     "data": {
      "text/html": [
       "<div>\n",
       "<style scoped>\n",
       "    .dataframe tbody tr th:only-of-type {\n",
       "        vertical-align: middle;\n",
       "    }\n",
       "\n",
       "    .dataframe tbody tr th {\n",
       "        vertical-align: top;\n",
       "    }\n",
       "\n",
       "    .dataframe thead th {\n",
       "        text-align: right;\n",
       "    }\n",
       "</style>\n",
       "<table border=\"1\" class=\"dataframe\">\n",
       "  <thead>\n",
       "    <tr style=\"text-align: right;\">\n",
       "      <th></th>\n",
       "      <th>id</th>\n",
       "      <th>label</th>\n",
       "      <th>text</th>\n",
       "      <th>label_num</th>\n",
       "      <th>text_clean</th>\n",
       "    </tr>\n",
       "  </thead>\n",
       "  <tbody>\n",
       "    <tr>\n",
       "      <th>0</th>\n",
       "      <td>605</td>\n",
       "      <td>ham</td>\n",
       "      <td>Subject: enron methanol ; meter # : 988291\\r\\n...</td>\n",
       "      <td>0</td>\n",
       "      <td>subject enron methanol meter follow note gave ...</td>\n",
       "    </tr>\n",
       "    <tr>\n",
       "      <th>1</th>\n",
       "      <td>2349</td>\n",
       "      <td>ham</td>\n",
       "      <td>Subject: hpl nom for january 9 , 2001\\r\\n( see...</td>\n",
       "      <td>0</td>\n",
       "      <td>subject hpl nom january see attached file hpln...</td>\n",
       "    </tr>\n",
       "    <tr>\n",
       "      <th>2</th>\n",
       "      <td>3624</td>\n",
       "      <td>ham</td>\n",
       "      <td>Subject: neon retreat\\r\\nho ho ho , we ' re ar...</td>\n",
       "      <td>0</td>\n",
       "      <td>subject neon retreat ho ho ho around wonderful...</td>\n",
       "    </tr>\n",
       "    <tr>\n",
       "      <th>3</th>\n",
       "      <td>4685</td>\n",
       "      <td>spam</td>\n",
       "      <td>Subject: photoshop , windows , office . cheap ...</td>\n",
       "      <td>1</td>\n",
       "      <td>subject photoshop windows office cheap main tr...</td>\n",
       "    </tr>\n",
       "    <tr>\n",
       "      <th>4</th>\n",
       "      <td>2030</td>\n",
       "      <td>ham</td>\n",
       "      <td>Subject: re : indian springs\\r\\nthis deal is t...</td>\n",
       "      <td>0</td>\n",
       "      <td>subject indian springs deal book teco pvr reve...</td>\n",
       "    </tr>\n",
       "  </tbody>\n",
       "</table>\n",
       "</div>"
      ],
      "text/plain": [
       "     id label                                               text  label_num  \\\n",
       "0   605   ham  Subject: enron methanol ; meter # : 988291\\r\\n...          0   \n",
       "1  2349   ham  Subject: hpl nom for january 9 , 2001\\r\\n( see...          0   \n",
       "2  3624   ham  Subject: neon retreat\\r\\nho ho ho , we ' re ar...          0   \n",
       "3  4685  spam  Subject: photoshop , windows , office . cheap ...          1   \n",
       "4  2030   ham  Subject: re : indian springs\\r\\nthis deal is t...          0   \n",
       "\n",
       "                                          text_clean  \n",
       "0  subject enron methanol meter follow note gave ...  \n",
       "1  subject hpl nom january see attached file hpln...  \n",
       "2  subject neon retreat ho ho ho around wonderful...  \n",
       "3  subject photoshop windows office cheap main tr...  \n",
       "4  subject indian springs deal book teco pvr reve...  "
      ]
     },
     "execution_count": 83,
     "metadata": {},
     "output_type": "execute_result"
    }
   ],
   "source": [
    "# get rid of the stopwords\n",
    "\n",
    "stop = stopwords.words('english')\n",
    "df['text_clean'] = df['text_clean'].apply(lambda x: \" \".join(x for x in x.split() if x not in stop))\n",
    "\n",
    "# show the first rows without the stopwords\n",
    "df.head()"
   ]
  },
  {
   "cell_type": "code",
   "execution_count": 84,
   "id": "4f463979",
   "metadata": {},
   "outputs": [
    {
     "data": {
      "text/plain": [
       "0    subject enron methanol meter follow note gave ...\n",
       "1    subject hpl nom january see attached file hpln...\n",
       "2    subject neon retreat ho ho ho around wonderful...\n",
       "3    subject photoshop window office cheap main tre...\n",
       "4    subject indian spring deal book teco pvr reven...\n",
       "5    subject ehronline web address change message i...\n",
       "6    subject spring saving certificate take save us...\n",
       "7    subject looking medication best source difficu...\n",
       "8    subject noms actual flow agree forwarded melis...\n",
       "9    subject nomination oct see attached file hplnl...\n",
       "Name: text_clean, dtype: object"
      ]
     },
     "execution_count": 84,
     "metadata": {},
     "output_type": "execute_result"
    }
   ],
   "source": [
    "# lemmatize the cleaned email contents\n",
    "\n",
    "df['text_clean'] = df['text_clean'].apply(lambda x: \" \".join([Word(word).lemmatize() for word in x.split()]))\n",
    "\n",
    "# show the first rows after lemmatizing\n",
    "df['text_clean'].head(10)"
   ]
  },
  {
   "cell_type": "code",
   "execution_count": 85,
   "id": "a3214365",
   "metadata": {},
   "outputs": [
    {
     "data": {
      "text/plain": [
       "0    methanol follow note gave monday preliminary f...\n",
       "1                       nom january file hplnol hplnol\n",
       "2    neon retreat ho ho ho around wonderful year ne...\n",
       "3    photoshop window office cheap main trending ab...\n",
       "4    indian spring book teco pvr revenue understand...\n",
       "Name: text_clean, dtype: object"
      ]
     },
     "execution_count": 85,
     "metadata": {},
     "output_type": "execute_result"
    }
   ],
   "source": [
    "# define the most frequent words in the emails\n",
    "\n",
    "frequentWords = pd.Series(' '.join(df['text_clean']).split()).value_counts()\n",
    "frequentWords = frequentWords[frequentWords > 1000]\n",
    "\n",
    "# remove them from the email contents\n",
    "\n",
    "frequentWords = list(frequentWords.index)\n",
    "df['text_clean'] = df['text_clean'].apply(lambda x: \" \".join(x for x in x.split() if x not in frequentWords))\n",
    "\n",
    "# show the first rows after removing the most frequent words \n",
    "df['text_clean'].head()"
   ]
  },
  {
   "cell_type": "code",
   "execution_count": 86,
   "id": "9196c029",
   "metadata": {
    "scrolled": true
   },
   "outputs": [
    {
     "data": {
      "image/png": "[encoded data removed]",
      "text/plain": [
       "<Figure size 432x288 with 1 Axes>"
      ]
     },
     "metadata": {
      "needs_background": "light"
     },
     "output_type": "display_data"
    }
   ],
   "source": [
    "df['label'].value_counts().plot.bar(color = [\"g\",\"r\"])\n",
    "plt.title('Total number of ham and spam in the dataset')\n",
    "plt.show()"
   ]
  },
  {
   "cell_type": "code",
   "execution_count": 109,
   "id": "ccbf2aa9",
   "metadata": {},
   "outputs": [
    {
     "name": "stdout",
     "output_type": "stream",
     "text": [
      "['aaihmqv', 'aalland', 'aamlrg', 'aare', 'aaron', 'aavilable', 'ab', 'ababa', 'aback', 'abacus', 'abandon', 'abandoned', 'abasement', 'abashed', 'abater', 'abb', 'abbasi', 'abbey', 'abbott', 'abbreviation']\n"
     ]
    }
   ],
   "source": [
    "# Convert a collection of text documents to a matrix of token counts\n",
    "from sklearn.feature_extraction.text import CountVectorizer\n",
    "cv = CountVectorizer()\n",
    "X = cv.fit_transform(df.text_clean)\n",
    " \n",
    "# Get the categories\n",
    "y = df.label\n",
    "# Words exctracted from text_clean\n",
    "print(cv.get_feature_names()[10:50:2])"
   ]
  },
  {
   "cell_type": "code",
   "execution_count": 88,
   "id": "59fa84f3",
   "metadata": {},
   "outputs": [],
   "source": [
    "X_train, X_test, y_train, y_test = train_test_split(X, y, test_size=0.2, random_state=0)"
   ]
  },
  {
   "cell_type": "code",
   "execution_count": 289,
   "id": "d2b597a3",
   "metadata": {},
   "outputs": [],
   "source": [
    "class ModelEvaluator():\n",
    "    #constructor\n",
    "    def __init__(self, models):\n",
    "        self.models = models\n",
    "    \n",
    "    # handels traing given models\n",
    "    def train(self, X_train, y_train):\n",
    "        for name, model in self.models.items():\n",
    "            start = time.time()\n",
    "            model['modelObj'].fit(X_train, y_train)\n",
    "            end = time.time()\n",
    "            print(f'model {name} trained succesfully in time: {round(end - start,2)} seconds!')\n",
    "    \n",
    "    # handels scoring given models\n",
    "    def score(self, X_test, y_test):\n",
    "        for name, model in self.models.items():\n",
    "            print(f\"{name}\\tscore:\\t{model['modelObj'].score(X_test, y_test)}\")\n",
    "    \n",
    "    # creates dataframe with model name and model accuracy\n",
    "    def get_dataframe(self, X_test, y_test):\n",
    "        models_arr=[]\n",
    "        for name, model in self.models.items(): # add to array name and score of the model\n",
    "            models_arr.append([name, model['modelObj'].score(X_test, y_test)])\n",
    "            \n",
    "        models_df = pd.DataFrame(models) # create dataframe out of the models array\n",
    "        models_df.columns = ['Model', 'Accuracy'] # add columns \n",
    "        \n",
    "        # sort values by model's accuracy\n",
    "        models_df.sort_values(by='Accuracy', ascending = False, inplace=True) \n",
    "        \n",
    "        #reset index\n",
    "        models_df.reset_index(drop = True, inplace = True)\n",
    "        \n",
    "        return models_df\n",
    "    \n",
    "    # checks which model did best and returs it\n",
    "    def get_most_accurate_model(self, X_test, y_test):\n",
    "        best_model = None\n",
    "        max_score = 0\n",
    "        for name, model in self.models.items():\n",
    "            model_score = model['modelObj'].score(X_test, y_test)\n",
    "            if(model_score > max_score):\n",
    "                max_score = model_score\n",
    "                best_model = model['modelObj']\n",
    "        \n",
    "        return best_model\n",
    "    \n",
    "    # handels testing model\n",
    "    def test(self, model, text_message, label):\n",
    "        print(f\"MODEL USED: {model}\")\n",
    "        message_vec = cv.transform([text_message])\n",
    "        prediction = model.predict(message_vec)\n",
    "        \n",
    "        print(f\"Given Label: {label}\\tPredicted label: {prediction[0]}\" )\n",
    "        print(f\"\"\"Email message\n",
    "            {text_message}\n",
    "        \"\"\")\n",
    "    "
   ]
  },
  {
   "cell_type": "code",
   "execution_count": 290,
   "id": "88aaf719",
   "metadata": {
    "scrolled": true
   },
   "outputs": [
    {
     "name": "stdout",
     "output_type": "stream",
     "text": [
      "model RandomForest trained succesfully in time: 5.49 seconds!\n",
      "model KNeighbors trained succesfully in time: 0.0 seconds!\n",
      "model LogisticRegress trained succesfully in time: 0.23 seconds!\n",
      "model DecisionTree trained succesfully in time: 0.95 seconds!\n",
      "RandomForest\tscore:\t0.9671497584541063\n",
      "KNeighbors\tscore:\t0.7845410628019324\n",
      "LogisticRegress\tscore:\t0.9739130434782609\n",
      "DecisionTree\tscore:\t0.927536231884058\n",
      "-----------\n"
     ]
    }
   ],
   "source": [
    "# Create model dict\n",
    "models = {\n",
    "    \"RandomForest\": {\"modelObj\": RandomForestClassifier()},\n",
    "    \"KNeighbors\": {\"modelObj\": KNeighborsClassifier()},\n",
    "    \"LogisticRegress\": {\"modelObj\": LogisticRegression()},\n",
    "    \"DecisionTree\": {\"modelObj\": DecisionTreeClassifier()}\n",
    "}\n",
    "\n",
    "\n",
    "modelEval = ModelEvaluator(models)\n",
    "\n",
    "# run traning and scoring:\n",
    "modelEval.train(X_train, y_train)\n",
    "print(\"-\" * 50) \n",
    "modelEval.score(X_test, y_test)\n",
    "print(\"-\" * 50)    "
   ]
  },
  {
   "cell_type": "code",
   "execution_count": 231,
   "id": "cd4cbc80",
   "metadata": {},
   "outputs": [
    {
     "data": {
      "text/plain": [
       "<BarContainer object of 4 artists>"
      ]
     },
     "execution_count": 231,
     "metadata": {},
     "output_type": "execute_result"
    },
    {
     "data": {
      "image/png": "[encoded data removed]",
      "text/plain": [
       "<Figure size 432x288 with 1 Axes>"
      ]
     },
     "metadata": {
      "needs_background": "light"
     },
     "output_type": "display_data"
    }
   ],
   "source": [
    "# Display accuracy as bar chart\n",
    "models_df = modelEval.get_dataframe(X_test, y_test)\n",
    "model_names = models_df['Model']\n",
    "model_acc = models_df['Accuracy']\n",
    "\n",
    "plt.xticks(np.arange(len(model_names)), model_names)\n",
    "plt.bar(np.arange(len(model_names)), model_acc*100, color=['r', 'g', 'b', 'y'])"
   ]
  },
  {
   "cell_type": "code",
   "execution_count": 291,
   "id": "5e2adf72",
   "metadata": {
    "scrolled": true
   },
   "outputs": [
    {
     "name": "stdout",
     "output_type": "stream",
     "text": [
      "MODEL USED: LogisticRegression()\n",
      "Given Label: spam\tPredicted label: spam\n",
      "Email message\n",
      "            photoshop window office cheap main trending abasement darer prudently fortuitous undergone lighthearted charm orinoco taster railroad affluent pornographic cuvier irvin parkhouse blameworthy chlorophyll robed diagrammatic fogarty clear bayda inconveniencing managing represented smartness hashish academy shareholder unload badness danielson pure caffein spaniard chargeable levin\n",
      "        \n",
      "====================================================================================================\n",
      "MODEL USED: LogisticRegression()\n",
      "Given Label: spam\tPredicted label: spam\n",
      "Email message\n",
      "            looking medication best source difficult make material condition better best law easy enough ruin bad law excuse found best simpliest site medication net perscription easy delivery private secure easy better rightly pound week squint million got anything ever want erection treatment pill anti depressant pill weight loss splicing bombahakcx knowledge human power synonymous high quality stuff low rate moneyback guarantee god nature sufficeth unto wise hath author\n",
      "        \n",
      "====================================================================================================\n",
      "MODEL USED: LogisticRegression()\n",
      "Given Label: spam\tPredicted label: spam\n",
      "Email message\n",
      "            vocable rnd word asceticism vcsc brand stock attention vocalscape inc stock symbol vcsc vcsc top stock pick april stock expected bounce cent level stock hit low bounce back stock going explode next watch soar watch stock go crazy next week breaking news vocalscape inc announces agreement resell mix network service current expect projected speculative next expect projected speculative next vocalscape network inc building revolutionizing telecommunication industry affordable phone system hardware online software rate canada vocalscape global reach receiving international attention development voice ip voip application solution including award winning eyefontm softphone real pc phone advanced implementer pbx system call center itsps service provider vocalscape created software interactive solution revolving around global communication data voice convergence use vocalscape voice internet protocol application like ip pbxs softswitches pc phone web phone providing real human interaction delivery internet vocalscape solution business offer quality voice service anywhere world rate significantly lower current long distance charge develop software run voip network sell install service branded voip gateway gatekeeper control software also license software customer want brand voip solution vocalscape committed making great technology challenging status quo building st century way business communicate interact internet current expect projected speculative next expect projected speculative next breaking news vocalscape inc announces agreement resell mix network service katonah n prnewswire firstcall via comtex vocalscape inc pink vcsc emerging leader development voice internet protocol voip telephony solution announced today entered sale agent agreement mix network inc voip enhanced telephony service provider agreement provides vocalscape turnkey calling card customer access mix network service including north american dids phone number domestic long distance termination vocalscape also able supply client enhanced voip product including pre paid calling mix network north american network excited help launch voip business model using solution whole picture software network needed route call mix network give ability offer wholesale monthly flat rate plan dids client allow build business model like popular voip vonage packet say ryan gibson vp vocalscape network legal word continue within email contains forward looking statement within meaning section security act section b security exchange act statement express involve discussion respect prediction goal expectation belief plan projection objective assumption future event performance statement historical fact forward looking statement forward looking statement based expectation estimate projection statement made involve number risk uncertainty could cause actual result event differ materially presently anticipated forward looking statement action identified use word project foresee expects estimate belief understands part anticipates statement indicating certain action could might occur provided within email pertaining investing stock security must understood provided investment advice emerging equity alert advises reader subscriber seek advice registered professional security representative deciding trade stock featured within email none material within report shall construed kind investment advice mind interpretation witer newsletter news published represent official statement fact differ real meaning news release meant say look news release judge detail compliance section b disclose holding vcsc share prior publication report aware inherent conflict interest resulting holding due intent profit liquidation share share sold even positive statement made regarding since share inherent conflict interest statement opinion reader publication cautioned place undue reliance forward looking statement based certain assumption expectation involving various risk uncertainty could cause result differ materially set forth forward looking statement advised nothing within email shall constitute solicitation invitation position sell security mentioned herein newsletter neither registered investment advisor affiliated broker dealer newsletter paid third party send report statement made express opinion treated take position sell security mentioned report includes forward looking statement within meaning private security litigation reform act statement include term projected speculative expect believe soar move undervalued intend similar term\n",
      "        \n",
      "====================================================================================================\n",
      "MODEL USED: LogisticRegression()\n",
      "Given Label: spam\tPredicted label: spam\n",
      "Email message\n",
      "            report wffur attion brom est inst siupied pgst riwe asently rest tont presyou tew con benco yee fater ust lyughtatums inenced sorepit grathers aicy graghteave allarity oarity wow yur coon mers oite ithat yoit berst thar enth excives\n",
      "        \n",
      "====================================================================================================\n",
      "MODEL USED: LogisticRegression()\n",
      "Given Label: spam\tPredicted label: spam\n",
      "Email message\n",
      "            vic odin n ow berne hotbox carnal bride cutworm dyadic guardia continuous born gremlin akin counterflow hereafter vocabularian pessimum yaounde cannel bitch penetrate demagogue arbitrary egregious adenosine rubin gil luminosity delicti yarmulke sauterne selfadjoint agleam exeter picofarad consulate dichotomous boyhood balfour spheric frey pillory hoosier fibonacci cat handful\n",
      "        \n",
      "====================================================================================================\n",
      "MODEL USED: LogisticRegression()\n",
      "Given Label: ham\tPredicted label: ham\n",
      "Email message\n",
      "            methanol follow note gave monday preliminary flow data provided override pop daily presently zero reflect daily activity obtain control needed asap economics purpose\n",
      "        \n",
      "====================================================================================================\n",
      "MODEL USED: LogisticRegression()\n",
      "Given Label: ham\tPredicted label: ham\n",
      "Email message\n",
      "            nom january file hplnol hplnol\n",
      "        \n",
      "====================================================================================================\n",
      "MODEL USED: LogisticRegression()\n",
      "Given Label: ham\tPredicted label: ham\n",
      "Email message\n",
      "            neon retreat ho ho ho around wonderful year neon leader retreat year extremely hectic tough think anything past holiday life go past week december january like think minute calender handed beginning fall semester retreat scheduled weekend january youth minister conference brad dustin connected week going date following weekend january come part think think agree important together recharge battery far spring semester lot trouble difficult away without kid etc brad came potential alternative together weekend prefer first option retreat similar done past several year year could go heartland country inn www outside brenham nice place bedroom bedroom house side side country real relaxing also close brenham one hour minute golf shop antique craft store brenham eat dinner together ranch spend meet saturday return sunday morning like done past second option stay houston dinner together nice restaurant dessert visiting recharging one home saturday evening might easier trade much together decide email back preference course available weekend democratic process prevail majority vote rule hear soon possible preferably end weekend vote go way complaining allowed like tend great weekend great golf great fishing great shopping whatever make happy bobby\n",
      "        \n",
      "====================================================================================================\n",
      "MODEL USED: LogisticRegression()\n",
      "Given Label: ham\tPredicted label: ham\n",
      "Email message\n",
      "            indian spring book teco pvr revenue understanding teco sends check received answer whether predermined associated teco giving continue chase\n",
      "        \n",
      "====================================================================================================\n",
      "MODEL USED: LogisticRegression()\n",
      "Given Label: ham\tPredicted label: ham\n",
      "Email message\n",
      "            ehronline web address intended ehronline user due recent ehronline url aka web address accessing ehronline changed computer involves adding letter reference url url accessing ehronline ehronline made added url favorite browser\n",
      "        \n",
      "====================================================================================================\n"
     ]
    }
   ],
   "source": [
    "# get the most accurate model:\n",
    "best_model = modelEval.get_most_accurate_model(X_test, y_test)\n",
    "\n",
    "# test the model\n",
    "df_spam = df[df['label'] == 'spam']\n",
    "df_ham = df[df['label'] == 'ham']\n",
    "\n",
    "for i in range(0, 5):\n",
    "    modelEval.test(best_model, df_spam['text_clean'].iloc[i], df_spam['label'].iloc[i])\n",
    "    print(\"=\"*100)\n",
    "    \n",
    "for i in range(0, 5):\n",
    "    modelEval.test(best_model, df_ham['text_clean'].iloc[i], df_ham['label'].iloc[i])\n",
    "    print(\"=\"*100)"
   ]
  },
  {
   "cell_type": "code",
   "execution_count": null,
   "id": "71a98242",
   "metadata": {},
   "outputs": [],
   "source": []
  }
 ],
 "metadata": {
  "kernelspec": {
   "display_name": "Python 3",
   "language": "python",
   "name": "python3"
  },
  "language_info": {
   "codemirror_mode": {
    "name": "ipython",
    "version": 3
   },
   "file_extension": ".py",
   "mimetype": "text/x-python",
   "name": "python",
   "nbconvert_exporter": "python",
   "pygments_lexer": "ipython3",
   "version": "3.8.8"
  }
 },
 "nbformat": 4,
 "nbformat_minor": 5
}
