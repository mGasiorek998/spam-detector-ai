{
 "cells": [
  {
   "cell_type": "markdown",
   "metadata": {},
   "source": [
    "# Uczenie maszynowe w Python - Zaliczenie\n",
    "## E-mail spam classifier"
   ]
  },
  {
   "cell_type": "code",
   "execution_count": 47,
   "metadata": {
    "scrolled": true
   },
   "outputs": [
    {
     "name": "stderr",
     "output_type": "stream",
     "text": [
      "[nltk_data] Downloading package wordnet to\n",
      "[nltk_data]     C:\\Users\\tomek\\AppData\\Roaming\\nltk_data...\n",
      "[nltk_data]   Package wordnet is already up-to-date!\n",
      "[nltk_data] Downloading package stopwords to\n",
      "[nltk_data]     C:\\Users\\tomek\\AppData\\Roaming\\nltk_data...\n",
      "[nltk_data]   Package stopwords is already up-to-date!\n"
     ]
    }
   ],
   "source": [
    "# imports\n",
    "import numpy as np\n",
    "import pandas as pd\n",
    "import matplotlib.pyplot as plt\n",
    "from nltk.corpus import stopwords\n",
    "import nltk\n",
    "from nltk.tokenize import RegexpTokenizer\n",
    "from textblob import Word\n",
    "nltk.download('wordnet')\n",
    "nltk.download('stopwords')\n",
    "\n",
    "from sklearn.model_selection import train_test_split\n",
    "from sklearn.tree import DecisionTreeClassifier\n",
    "from sklearn.neighbors import KNeighborsClassifier\n",
    "from sklearn.linear_model import LogisticRegression\n",
    "from sklearn.ensemble import RandomForestClassifier\n",
    "from sklearn.feature_extraction.text import CountVectorizer\n",
    "import time\n",
    "from unittest import TestCase\n",
    "TestCase.maxDiff = None"
   ]
  },
  {
   "cell_type": "markdown",
   "metadata": {},
   "source": [
    "# 1. Analysis of the dataset"
   ]
  },
  {
   "cell_type": "code",
   "execution_count": 2,
   "metadata": {},
   "outputs": [],
   "source": [
    "class DataPreparator:\n",
    "    \n",
    "    def __init__(self, file_name):\n",
    "        self.df = pd.read_csv(file_name)\n",
    "        self.email_amount = 0\n",
    "        self.ham_amount = 0\n",
    "        self.spam_amount = 0\n",
    "        self.word_count = 0\n",
    "        self.avg_words = 0       \n",
    "        \n",
    "    # print out the information about the dataset\n",
    "    def __str__(self):\n",
    "        mark_line = \"-\" * 120\n",
    "        data_info = f'The dataset contains {self.email_amount} emails, {self.ham_amount} ' \\\n",
    "                    f'of which are labeled as non-spam and {self.spam_amount} as spam. Between the emails, ' \\\n",
    "                    f'theres a total of {self.word_count} words,' \\\n",
    "                    f' with an average of ~{self.avg_words} words per email.'\n",
    "        \n",
    "        info = \"\\n\".join([mark_line, data_info, mark_line])\n",
    "        return info\n",
    "            \n",
    "    def analize(self):\n",
    "        \n",
    "        # label the unnamed column with ids\n",
    "        self.df.rename(columns={'Unnamed: 0': 'id'}, inplace = True)\n",
    "        print(80 * \"*\")\n",
    "        print(\"Adding id\")\n",
    "        print(80 * \"-\")\n",
    "        print(self.df.head())\n",
    "        print(80 * \"*\")\n",
    "\n",
    "        # amount of emails in the dataset\n",
    "        self.email_amount = self.df.shape[0]\n",
    "        \n",
    "        \n",
    "        # Series with the amount of words in each email and their total count\n",
    "        words_in_emails = (self.df['text'].apply(lambda x: len(str(x).split(\" \"))))\n",
    "        self.word_count = np.sum(words_in_emails)\n",
    "        \n",
    "        # average amount of words in each email\n",
    "        self.avg_words = round(np.divide(self.word_count, self.email_amount), 2)\n",
    "        \n",
    "        # amount of spam and ham emails \n",
    "        ham_and_spam_amount= self.df.groupby(['label']).count()\n",
    "        self.ham_amount = ham_and_spam_amount.iloc[0, 0]\n",
    "        self.spam_amount = ham_and_spam_amount.iloc[1, 0]\n",
    "\n"
   ]
  },
  {
   "cell_type": "markdown",
   "metadata": {},
   "source": [
    "# 2. Normalizing the e-mail contents"
   ]
  },
  {
   "cell_type": "code",
   "execution_count": 3,
   "metadata": {},
   "outputs": [],
   "source": [
    "class DataCleaner:\n",
    "    \n",
    "    def __init__(self, df):\n",
    "        self.df = df\n",
    "        \n",
    "    \n",
    "    def applying_clean_contents(self):\n",
    "        \n",
    "        # apply the function to each row of the dataframe\n",
    "        self.df['text_clean'] = self.df['text'].apply(lambda string: clean_contents(string))\n",
    "        print(80 * \"*\")\n",
    "        print(\"Cleaned contents\")\n",
    "        print(80 * \"-\")\n",
    "        print(self.df.head())  # printing 5 rows after\n",
    "        \n",
    "   \n",
    "    def cleaning_stopwords(self):\n",
    "        stop = stopwords.words('english')\n",
    "        self.df['text_clean'] = self.df['text_clean'].apply(lambda x: \" \".join(x for x in x.split() if x not in stop))\n",
    "        print(80 * \"*\")\n",
    "        print(\"Without stopwords\")\n",
    "        print(80 * \"-\")\n",
    "        print(self.df.head())\n",
    "    \n",
    "    # lemmatize the cleaned email contents\n",
    "    def lemmatization(self):\n",
    "        self.df['text_clean'] = self.df['text_clean'].apply(lambda x: \" \".join([Word(word).lemmatize() for word in x.split()]))\n",
    "\n",
    "        # show the first 10 rows after lemmatizing\n",
    "        print(80 * \"*\")\n",
    "        print(\"After lemmatization\")\n",
    "        print(80 * \"-\")\n",
    "        print(self.df['text_clean'].head(10))\n",
    "        \n",
    "    def clean_most_frequent_words(self):\n",
    "        \n",
    "        # define the most frequent words in the emails\n",
    "        frequent_words = pd.Series(' '.join(self.df['text_clean']).split()).value_counts()\n",
    "        frequent_words = frequent_words[frequent_words > 1000]\n",
    "        \n",
    "        # remove them from the email contents\n",
    "        frequent_words = list(frequent_words.index)\n",
    "        self.df['text_clean'] = self.df['text_clean'].apply(lambda x: \" \".join(x for x in x.split() if x not in frequent_words))\n",
    "        #print(80 * \"*\")\n",
    "        #print(\"After deleting the most frequent words\")\n",
    "        #print(80 * \"-\")\n",
    "        #print(self.df['text_clean'].head(10))\n",
    "        \n",
    "# clean the contents of each email\n",
    "def clean_contents(string, reg = RegexpTokenizer(r'[a-z]+')):\n",
    "    string = string.lower()\n",
    "    tokens = reg.tokenize(string)\n",
    "    return \" \".join(tokens)\n",
    "\n"
   ]
  },
  {
   "cell_type": "markdown",
   "metadata": {},
   "source": [
    "# 3. Visualisation"
   ]
  },
  {
   "cell_type": "code",
   "execution_count": 4,
   "metadata": {},
   "outputs": [],
   "source": [
    "class Plots:\n",
    "    \n",
    "    def __init__(self, cleaned_data):\n",
    "        self.df = cleaned_data.df\n",
    "        \n",
    "    def show_plot_second_step(self):\n",
    "        self.df['label'].value_counts().plot.bar(color = [\"g\",\"r\"])\n",
    "        plt.title('Total number of ham and spam in the dataset')\n",
    "        plt.show()\n",
    "       "
   ]
  },
  {
   "cell_type": "markdown",
   "metadata": {},
   "source": [
    "# 4. Vectorization"
   ]
  },
  {
   "cell_type": "code",
   "execution_count": 5,
   "metadata": {},
   "outputs": [],
   "source": [
    "class VectorAndTrain:\n",
    "    \n",
    "    def __init__(self, cleaned_data):\n",
    "        self.df = cleaned_data.df\n",
    "        \n",
    "    def vectorization(self):\n",
    "        \n",
    "        # Convert a collection of text documents to a matrix of token counts\n",
    "        cv = CountVectorizer()\n",
    "        X = cv.fit_transform(self.df.text_clean)\n",
    "        # Get the categories\n",
    "        y = self.df.label\n",
    "        # Words exctracted from text_clean\n",
    "        print(cv.get_feature_names()[10:50:2])\n",
    "        \n",
    "        return X, y\n",
    "    \n",
    "    def train(self, X ,y):\n",
    "        X_train, X_test, y_train, y_test = train_test_split(X, y, test_size=0.2, random_state=0)\n",
    "        return X_train, X_test, y_train, y_test        "
   ]
  },
  {
   "cell_type": "markdown",
   "metadata": {},
   "source": [
    "# 5. Defining and training the model"
   ]
  },
  {
   "cell_type": "code",
   "execution_count": 6,
   "metadata": {},
   "outputs": [],
   "source": [
    "class ModelEvaluator():\n",
    "    #constructor\n",
    "    def __init__(self, models):\n",
    "        self.models = models\n",
    "    \n",
    "    # handles traing given models\n",
    "    def train(self, X_train, y_train):\n",
    "        for name, model in self.models.items():\n",
    "            start = time.time()\n",
    "            model['modelObj'].fit(X_train, y_train)\n",
    "            end = time.time()\n",
    "            print(f'model {name} trained succesfully in time: {round(end - start,2)} seconds!')\n",
    "    \n",
    "    # handles scoring given models\n",
    "    def score(self, X_test, y_test):\n",
    "        for name, model in self.models.items():\n",
    "            print(f\"{name}\\tscore:\\t{model['modelObj'].score(X_test, y_test)}\")\n",
    "    \n",
    "    # creates dataframe with model name and model accuracy\n",
    "    def get_dataframe(self, X_test, y_test):\n",
    "        models_arr=[]\n",
    "        for name, model in self.models.items(): # add to array name and score of the model\n",
    "            models_arr.append([name, model['modelObj'].score(X_test, y_test)])\n",
    "            \n",
    "        models_df = pd.DataFrame(models_arr) # create dataframe out of the models array\n",
    "        models_df.columns = ['Model', 'Accuracy'] # add columns \n",
    "        \n",
    "        # sort values by model's accuracy\n",
    "        models_df.sort_values(by='Accuracy', ascending = False, inplace=True) \n",
    "        \n",
    "        #reset index\n",
    "        models_df.reset_index(drop = True, inplace = True)\n",
    "        \n",
    "        return models_df\n",
    "    \n",
    "    # checks which model did best and returs it\n",
    "    def get_most_accurate_model(self, X_test, y_test):\n",
    "        best_model = None\n",
    "        max_score = 0\n",
    "        for name, model in self.models.items():\n",
    "            model_score = model['modelObj'].score(X_test, y_test)\n",
    "            if(model_score > max_score):\n",
    "                max_score = model_score\n",
    "                best_model = model['modelObj']\n",
    "        \n",
    "        return best_model\n",
    "    \n",
    "    # handles testing model\n",
    "    def test(self, model, text_message, label):\n",
    "        print(f\"MODEL USED: {model}\")\n",
    "        message_vec = cv.transform([text_message])\n",
    "        prediction = model.predict(message_vec)\n",
    "        \n",
    "        print(f\"Given Label: {label}\\tPredicted label: {prediction[0]}\" )\n",
    "        print(f\"\"\"Email message\n",
    "            {text_message}\n",
    "        \"\"\")"
   ]
  },
  {
   "cell_type": "markdown",
   "metadata": {},
   "source": [
    "# 6. Unit tests"
   ]
  },
  {
   "cell_type": "code",
   "execution_count": 60,
   "metadata": {},
   "outputs": [
    {
     "name": "stderr",
     "output_type": "stream",
     "text": [
      "test_frequent_words (__main__.TestSuite) ... ok\n",
      "test_lemmatization (__main__.TestSuite) ... ok\n",
      "test_stopwords (__main__.TestSuite) ... "
     ]
    },
    {
     "name": "stdout",
     "output_type": "stream",
     "text": [
      "********************************************************************************\n",
      "After lemmatization\n",
      "--------------------------------------------------------------------------------\n",
      "0      multiple scenario\n",
      "1    advanced technology\n",
      "Name: text_clean, dtype: object\n",
      "********************************************************************************\n",
      "Without stopwords\n",
      "--------------------------------------------------------------------------------\n",
      "  text_clean\n",
      "0           \n",
      "1     two us\n"
     ]
    },
    {
     "name": "stderr",
     "output_type": "stream",
     "text": [
      "ok\n",
      "\n",
      "----------------------------------------------------------------------\n",
      "Ran 3 tests in 0.007s\n",
      "\n",
      "OK\n"
     ]
    },
    {
     "data": {
      "text/plain": [
       "<unittest.main.TestProgram at 0x23be6cb22e0>"
      ]
     },
     "execution_count": 60,
     "metadata": {},
     "output_type": "execute_result"
    }
   ],
   "source": [
    "class TestSuite(unittest.TestCase):\n",
    "    \n",
    "    # testing the methods that normalize the text before its analysis\n",
    "    def test_lemmatization(self):   \n",
    "        \n",
    "        lem_test_data = {'text_clean':['multiple scenarios', 'advanced technologies']}\n",
    "        df_lem_test = pd.DataFrame(lem_test_data)\n",
    "        \n",
    "        DataCleaner(df_lem_test).lemmatization()\n",
    "        self.assertEqual('multiple scenario', df_lem_test.iloc[0,0])\n",
    "        self.assertEqual('advanced technology', df_lem_test.iloc[1,0])\n",
    "        \n",
    "    def test_stopwords(self):\n",
    "        \n",
    "        stopwords_test_data = {'text_clean': ['me myself and i', 'it is all the two of us have']}\n",
    "        df_stopwords_test = pd.DataFrame(stopwords_test_data)\n",
    "        \n",
    "        DataCleaner(df_stopwords_test).cleaning_stopwords()\n",
    "        self.assertEqual('', df_stopwords_test.iloc[0,0])\n",
    "        self.assertEqual('two us', df_stopwords_test.iloc[1,0])\n",
    "        \n",
    "    def test_frequent_words(self):\n",
    "        \n",
    "        frequentwords_test_data = {'text_clean': ['test ' * 1001, 'test1 test1']}\n",
    "        df_frequentwords_test = pd.DataFrame(frequentwords_test_data)\n",
    "        \n",
    "        DataCleaner(df_frequentwords_test).clean_most_frequent_words()\n",
    "        self.assertEqual('', df_frequentwords_test.iloc[0,0])\n",
    "        self.assertEqual('test1 test1', df_frequentwords_test.iloc[1,0])\n",
    "\n",
    "# running all the defined tests\n",
    "unittest.main(argv=[''], verbosity=2, exit=False)"
   ]
  },
  {
   "cell_type": "markdown",
   "metadata": {},
   "source": [
    "# 7. Execution of the previously defined methods"
   ]
  },
  {
   "cell_type": "code",
   "execution_count": 9,
   "metadata": {},
   "outputs": [
    {
     "name": "stdout",
     "output_type": "stream",
     "text": [
      "********************************************************************************\n",
      "Adding id\n",
      "--------------------------------------------------------------------------------\n",
      "     id label                                               text  label_num\n",
      "0   605   ham  Subject: enron methanol ; meter # : 988291\\r\\n...          0\n",
      "1  2349   ham  Subject: hpl nom for january 9 , 2001\\r\\n( see...          0\n",
      "2  3624   ham  Subject: neon retreat\\r\\nho ho ho , we ' re ar...          0\n",
      "3  4685  spam  Subject: photoshop , windows , office . cheap ...          1\n",
      "4  2030   ham  Subject: re : indian springs\\r\\nthis deal is t...          0\n",
      "********************************************************************************\n",
      "------------------------------------------------------------------------------------------------------------------------\n",
      "The dataset contains 5171 emails, 3672 of which are labeled as non-spam and 1499 as spam. Between the emails, theres a total of 1083244 words, with an average of ~209.48 words per email.\n",
      "------------------------------------------------------------------------------------------------------------------------\n",
      "********************************************************************************\n",
      "Cleaned contents\n",
      "--------------------------------------------------------------------------------\n",
      "     id label                                               text  label_num  \\\n",
      "0   605   ham  Subject: enron methanol ; meter # : 988291\\r\\n...          0   \n",
      "1  2349   ham  Subject: hpl nom for january 9 , 2001\\r\\n( see...          0   \n",
      "2  3624   ham  Subject: neon retreat\\r\\nho ho ho , we ' re ar...          0   \n",
      "3  4685  spam  Subject: photoshop , windows , office . cheap ...          1   \n",
      "4  2030   ham  Subject: re : indian springs\\r\\nthis deal is t...          0   \n",
      "\n",
      "                                          text_clean  \n",
      "0  subject enron methanol meter this is a follow ...  \n",
      "1  subject hpl nom for january see attached file ...  \n",
      "2  subject neon retreat ho ho ho we re around to ...  \n",
      "3  subject photoshop windows office cheap main tr...  \n",
      "4  subject re indian springs this deal is to book...  \n",
      "********************************************************************************\n",
      "Without stopwords\n",
      "--------------------------------------------------------------------------------\n",
      "     id label                                               text  label_num  \\\n",
      "0   605   ham  Subject: enron methanol ; meter # : 988291\\r\\n...          0   \n",
      "1  2349   ham  Subject: hpl nom for january 9 , 2001\\r\\n( see...          0   \n",
      "2  3624   ham  Subject: neon retreat\\r\\nho ho ho , we ' re ar...          0   \n",
      "3  4685  spam  Subject: photoshop , windows , office . cheap ...          1   \n",
      "4  2030   ham  Subject: re : indian springs\\r\\nthis deal is t...          0   \n",
      "\n",
      "                                          text_clean  \n",
      "0  subject enron methanol meter follow note gave ...  \n",
      "1  subject hpl nom january see attached file hpln...  \n",
      "2  subject neon retreat ho ho ho around wonderful...  \n",
      "3  subject photoshop windows office cheap main tr...  \n",
      "4  subject indian springs deal book teco pvr reve...  \n",
      "********************************************************************************\n",
      "After lemmatization\n",
      "--------------------------------------------------------------------------------\n",
      "0    subject enron methanol meter follow note gave ...\n",
      "1    subject hpl nom january see attached file hpln...\n",
      "2    subject neon retreat ho ho ho around wonderful...\n",
      "3    subject photoshop window office cheap main tre...\n",
      "4    subject indian spring deal book teco pvr reven...\n",
      "5    subject ehronline web address change message i...\n",
      "6    subject spring saving certificate take save us...\n",
      "7    subject looking medication best source difficu...\n",
      "8    subject noms actual flow agree forwarded melis...\n",
      "9    subject nomination oct see attached file hplnl...\n",
      "Name: text_clean, dtype: object\n"
     ]
    },
    {
     "data": {
      "image/png": "[encoded data removed]",
      "text/plain": [
       "<Figure size 432x288 with 1 Axes>"
      ]
     },
     "metadata": {
      "needs_background": "light"
     },
     "output_type": "display_data"
    },
    {
     "name": "stdout",
     "output_type": "stream",
     "text": [
      "['aaihmqv', 'aalland', 'aamlrg', 'aare', 'aaron', 'aavilable', 'ab', 'ababa', 'aback', 'abacus', 'abandon', 'abandoned', 'abasement', 'abashed', 'abater', 'abb', 'abbasi', 'abbey', 'abbott', 'abbreviation']\n"
     ]
    }
   ],
   "source": [
    "# first step\n",
    "first_step = DataPreparator(\"spam_ham_dataset.csv\")\n",
    "first_step.analize()\n",
    "print(first_step)\n",
    "\n",
    "# second step\n",
    "second_step = DataCleaner(first_step.df)\n",
    "\n",
    "second_step.applying_clean_contents()\n",
    "second_step.cleaning_stopwords()\n",
    "second_step.lemmatization()\n",
    "second_step.clean_most_frequent_words()\n",
    "\n",
    "# second step - plot\n",
    "plot = Plots(second_step)\n",
    "plot.show_plot_second_step()\n",
    "\n",
    "# third_step \n",
    "third_step = VectorAndTrain(second_step)  \n",
    "\n",
    "X, y = third_step.vectorization()\n",
    "X_train, X_test, y_train, y_test = third_step.train(X,y)\n"
   ]
  },
  {
   "cell_type": "markdown",
   "metadata": {},
   "source": [
    "# 8. Evaluation using different models"
   ]
  },
  {
   "cell_type": "code",
   "execution_count": 10,
   "metadata": {},
   "outputs": [
    {
     "name": "stdout",
     "output_type": "stream",
     "text": [
      "model RandomForest trained succesfully in time: 5.88 seconds!\n",
      "model KNeighbors trained succesfully in time: 0.0 seconds!\n",
      "model LogisticRegress trained succesfully in time: 0.22 seconds!\n",
      "model DecisionTree trained succesfully in time: 1.02 seconds!\n",
      "--------------------------------------------------\n",
      "RandomForest\tscore:\t0.970048309178744\n",
      "KNeighbors\tscore:\t0.7845410628019324\n",
      "LogisticRegress\tscore:\t0.9739130434782609\n",
      "DecisionTree\tscore:\t0.9217391304347826\n",
      "--------------------------------------------------\n"
     ]
    }
   ],
   "source": [
    "# Create model dict\n",
    "models = {\n",
    "    \"RandomForest\": {\"modelObj\": RandomForestClassifier()},\n",
    "    \"KNeighbors\": {\"modelObj\": KNeighborsClassifier()},\n",
    "    \"LogisticRegress\": {\"modelObj\": LogisticRegression()},\n",
    "    \"DecisionTree\": {\"modelObj\": DecisionTreeClassifier()}\n",
    "}\n",
    "\n",
    "\n",
    "modelEval = ModelEvaluator(models)\n",
    "\n",
    "# run traning and scoring:\n",
    "modelEval.train(X_train, y_train)\n",
    "print(\"-\" * 50) \n",
    "modelEval.score(X_test, y_test)\n",
    "print(\"-\" * 50)"
   ]
  },
  {
   "cell_type": "code",
   "execution_count": 11,
   "metadata": {},
   "outputs": [
    {
     "data": {
      "text/plain": [
       "<BarContainer object of 4 artists>"
      ]
     },
     "execution_count": 11,
     "metadata": {},
     "output_type": "execute_result"
    },
    {
     "data": {
      "image/png": "[encoded data removed]",
      "text/plain": [
       "<Figure size 432x288 with 1 Axes>"
      ]
     },
     "metadata": {
      "needs_background": "light"
     },
     "output_type": "display_data"
    }
   ],
   "source": [
    "# Display accuracy as bar chart\n",
    "models_df = modelEval.get_dataframe(X_test, y_test)\n",
    "model_names = models_df['Model']\n",
    "model_acc = models_df['Accuracy']\n",
    "\n",
    "plt.xticks(np.arange(len(model_names)), model_names)\n",
    "plt.bar(np.arange(len(model_names)), model_acc*100, color=['r', 'g', 'b', 'y'])"
   ]
  },
  {
   "cell_type": "markdown",
   "metadata": {},
   "source": [
    "# 9. Choose and check the best model's work"
   ]
  },
  {
   "cell_type": "code",
   "execution_count": 62,
   "metadata": {},
   "outputs": [
    {
     "name": "stdout",
     "output_type": "stream",
     "text": [
      "MODEL USED: LogisticRegression()\n"
     ]
    },
    {
     "ename": "NameError",
     "evalue": "name 'cv' is not defined",
     "output_type": "error",
     "traceback": [
      "\u001b[1;31m---------------------------------------------------------------------------\u001b[0m",
      "\u001b[1;31mNameError\u001b[0m                                 Traceback (most recent call last)",
      "\u001b[1;32m<ipython-input-62-acb64508376d>\u001b[0m in \u001b[0;36m<module>\u001b[1;34m\u001b[0m\n\u001b[0;32m      7\u001b[0m \u001b[1;33m\u001b[0m\u001b[0m\n\u001b[0;32m      8\u001b[0m \u001b[1;32mfor\u001b[0m \u001b[0mi\u001b[0m \u001b[1;32min\u001b[0m \u001b[0mrange\u001b[0m\u001b[1;33m(\u001b[0m\u001b[1;36m0\u001b[0m\u001b[1;33m,\u001b[0m \u001b[1;36m5\u001b[0m\u001b[1;33m)\u001b[0m\u001b[1;33m:\u001b[0m\u001b[1;33m\u001b[0m\u001b[1;33m\u001b[0m\u001b[0m\n\u001b[1;32m----> 9\u001b[1;33m     \u001b[0mmodelEval\u001b[0m\u001b[1;33m.\u001b[0m\u001b[0mtest\u001b[0m\u001b[1;33m(\u001b[0m\u001b[0mbest_model\u001b[0m\u001b[1;33m,\u001b[0m \u001b[0mdf_spam\u001b[0m\u001b[1;33m[\u001b[0m\u001b[1;34m'text_clean'\u001b[0m\u001b[1;33m]\u001b[0m\u001b[1;33m.\u001b[0m\u001b[0miloc\u001b[0m\u001b[1;33m[\u001b[0m\u001b[0mi\u001b[0m\u001b[1;33m]\u001b[0m\u001b[1;33m,\u001b[0m \u001b[0mdf_spam\u001b[0m\u001b[1;33m[\u001b[0m\u001b[1;34m'label'\u001b[0m\u001b[1;33m]\u001b[0m\u001b[1;33m.\u001b[0m\u001b[0miloc\u001b[0m\u001b[1;33m[\u001b[0m\u001b[0mi\u001b[0m\u001b[1;33m]\u001b[0m\u001b[1;33m)\u001b[0m\u001b[1;33m\u001b[0m\u001b[1;33m\u001b[0m\u001b[0m\n\u001b[0m\u001b[0;32m     10\u001b[0m     \u001b[0mprint\u001b[0m\u001b[1;33m(\u001b[0m\u001b[1;34m\"=\"\u001b[0m\u001b[1;33m*\u001b[0m\u001b[1;36m100\u001b[0m\u001b[1;33m)\u001b[0m\u001b[1;33m\u001b[0m\u001b[1;33m\u001b[0m\u001b[0m\n\u001b[0;32m     11\u001b[0m \u001b[1;33m\u001b[0m\u001b[0m\n",
      "\u001b[1;32m<ipython-input-6-084db3e9bdc9>\u001b[0m in \u001b[0;36mtest\u001b[1;34m(self, model, text_message, label)\u001b[0m\n\u001b[0;32m     49\u001b[0m     \u001b[1;32mdef\u001b[0m \u001b[0mtest\u001b[0m\u001b[1;33m(\u001b[0m\u001b[0mself\u001b[0m\u001b[1;33m,\u001b[0m \u001b[0mmodel\u001b[0m\u001b[1;33m,\u001b[0m \u001b[0mtext_message\u001b[0m\u001b[1;33m,\u001b[0m \u001b[0mlabel\u001b[0m\u001b[1;33m)\u001b[0m\u001b[1;33m:\u001b[0m\u001b[1;33m\u001b[0m\u001b[1;33m\u001b[0m\u001b[0m\n\u001b[0;32m     50\u001b[0m         \u001b[0mprint\u001b[0m\u001b[1;33m(\u001b[0m\u001b[1;34mf\"MODEL USED: {model}\"\u001b[0m\u001b[1;33m)\u001b[0m\u001b[1;33m\u001b[0m\u001b[1;33m\u001b[0m\u001b[0m\n\u001b[1;32m---> 51\u001b[1;33m         \u001b[0mmessage_vec\u001b[0m \u001b[1;33m=\u001b[0m \u001b[0mcv\u001b[0m\u001b[1;33m.\u001b[0m\u001b[0mtransform\u001b[0m\u001b[1;33m(\u001b[0m\u001b[1;33m[\u001b[0m\u001b[0mtext_message\u001b[0m\u001b[1;33m]\u001b[0m\u001b[1;33m)\u001b[0m\u001b[1;33m\u001b[0m\u001b[1;33m\u001b[0m\u001b[0m\n\u001b[0m\u001b[0;32m     52\u001b[0m         \u001b[0mprediction\u001b[0m \u001b[1;33m=\u001b[0m \u001b[0mmodel\u001b[0m\u001b[1;33m.\u001b[0m\u001b[0mpredict\u001b[0m\u001b[1;33m(\u001b[0m\u001b[0mmessage_vec\u001b[0m\u001b[1;33m)\u001b[0m\u001b[1;33m\u001b[0m\u001b[1;33m\u001b[0m\u001b[0m\n\u001b[0;32m     53\u001b[0m \u001b[1;33m\u001b[0m\u001b[0m\n",
      "\u001b[1;31mNameError\u001b[0m: name 'cv' is not defined"
     ]
    }
   ],
   "source": [
    "# get the most accurate model:\n",
    "best_model = modelEval.get_most_accurate_model(X_test, y_test)\n",
    "\n",
    "# test the model\n",
    "df_spam = third_step.df[third_step.df['label'] == 'spam']\n",
    "df_ham = third_step.df[third_step.df['label'] == 'ham']\n",
    "\n",
    "for i in range(0, 5):\n",
    "    modelEval.test(best_model, df_spam['text_clean'].iloc[i], df_spam['label'].iloc[i])\n",
    "    print(\"=\"*100)\n",
    "    \n",
    "for i in range(0, 5):\n",
    "    modelEval.test(best_model, df_ham['text_clean'].iloc[i], df_ham['label'].iloc[i])\n",
    "    print(\"=\"*100)"
   ]
  },
  {
   "cell_type": "code",
   "execution_count": null,
   "metadata": {},
   "outputs": [],
   "source": []
  }
 ],
 "metadata": {
  "kernelspec": {
   "display_name": "Python 3",
   "language": "python",
   "name": "python3"
  },
  "language_info": {
   "codemirror_mode": {
    "name": "ipython",
    "version": 3
   },
   "file_extension": ".py",
   "mimetype": "text/x-python",
   "name": "python",
   "nbconvert_exporter": "python",
   "pygments_lexer": "ipython3",
   "version": "3.8.5"
  }
 },
 "nbformat": 4,
 "nbformat_minor": 5
}
